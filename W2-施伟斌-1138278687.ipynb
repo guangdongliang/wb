{
 "cells": [
  {
   "cell_type": "markdown",
   "metadata": {},
   "source": [
    "# 作业说明\n",
    "在Pima Indians Diabetes Data Set（皮马印第安人糖尿病数据集）进行分类器练习，数据集只有一个文件（diabetes.csv）：Pima Indians Diabetes Dataset 包括根据医疗记录的比马印第安人5 年内糖尿病的发病情况，这是一个两类分类问题。每个类的样本数目数量不均等。一共有 768 个样本，每个样本有8 个输入变量和1 个输出变量。缺失值通常用零值编码。\n",
    "\n",
    "1) 字段说明  \n",
    "    Pregnancies： 怀孕次数  \n",
    "    Glucose： 口服葡萄糖耐受试验中，2 小时的血浆葡萄糖浓度。  \n",
    "    BloodPressure： 舒张压（mm Hg）  \n",
    "    SkinThickness： 三头肌皮肤褶层厚度（mm）  \n",
    "    Insulin：2 小时血清胰岛素含量（μU/ ml）  \n",
    "    BMI： 体重指数（体重，kg /（身高，m）^ 2）  \n",
    "2) DiabetesPedigreeFunction： 糖尿病家族史  \n",
    "3) Age： 年龄（岁）  \n",
    "    Outcome： 输出变了/类别标签（0 或 1，出现糖尿病为1, 否则为 0）  "
   ]
  },
  {
   "cell_type": "markdown",
   "metadata": {},
   "source": [
    "## 导入必要工具包"
   ]
  },
  {
   "cell_type": "code",
   "execution_count": 458,
   "metadata": {},
   "outputs": [],
   "source": [
    "import pandas as pd \n",
    "import numpy as np\n",
    "\n",
    "from sklearn.model_selection import GridSearchCV\n",
    "\n",
    "#竞赛的评价指标为logloss\n",
    "#from sklearn.metrics import log_loss  \n",
    "#SVM并不能直接输出各类的概率，所以在这个例子中我们用正确率作为模型预测性能的度量\n",
    "from sklearn.metrics import accuracy_score\n",
    "\n",
    "import matplotlib.pyplot as plt\n",
    "from matplotlib import pyplot\n",
    "import seaborn as sns\n",
    "%matplotlib inline"
   ]
  },
  {
   "cell_type": "markdown",
   "metadata": {},
   "source": [
    "## 读取数据 & 数据探索"
   ]
  },
  {
   "cell_type": "code",
   "execution_count": 459,
   "metadata": {},
   "outputs": [
    {
     "data": {
      "text/html": [
       "<div>\n",
       "<style scoped>\n",
       "    .dataframe tbody tr th:only-of-type {\n",
       "        vertical-align: middle;\n",
       "    }\n",
       "\n",
       "    .dataframe tbody tr th {\n",
       "        vertical-align: top;\n",
       "    }\n",
       "\n",
       "    .dataframe thead th {\n",
       "        text-align: right;\n",
       "    }\n",
       "</style>\n",
       "<table border=\"1\" class=\"dataframe\">\n",
       "  <thead>\n",
       "    <tr style=\"text-align: right;\">\n",
       "      <th></th>\n",
       "      <th>Pregnancies</th>\n",
       "      <th>Glucose</th>\n",
       "      <th>BloodPressure</th>\n",
       "      <th>SkinThickness</th>\n",
       "      <th>Insulin</th>\n",
       "      <th>BMI</th>\n",
       "      <th>DiabetesPedigreeFunction</th>\n",
       "      <th>Age</th>\n",
       "      <th>Outcome</th>\n",
       "    </tr>\n",
       "  </thead>\n",
       "  <tbody>\n",
       "    <tr>\n",
       "      <th>0</th>\n",
       "      <td>6</td>\n",
       "      <td>148</td>\n",
       "      <td>72</td>\n",
       "      <td>35</td>\n",
       "      <td>0</td>\n",
       "      <td>33.6</td>\n",
       "      <td>0.627</td>\n",
       "      <td>50</td>\n",
       "      <td>1</td>\n",
       "    </tr>\n",
       "    <tr>\n",
       "      <th>1</th>\n",
       "      <td>1</td>\n",
       "      <td>85</td>\n",
       "      <td>66</td>\n",
       "      <td>29</td>\n",
       "      <td>0</td>\n",
       "      <td>26.6</td>\n",
       "      <td>0.351</td>\n",
       "      <td>31</td>\n",
       "      <td>0</td>\n",
       "    </tr>\n",
       "    <tr>\n",
       "      <th>2</th>\n",
       "      <td>8</td>\n",
       "      <td>183</td>\n",
       "      <td>64</td>\n",
       "      <td>0</td>\n",
       "      <td>0</td>\n",
       "      <td>23.3</td>\n",
       "      <td>0.672</td>\n",
       "      <td>32</td>\n",
       "      <td>1</td>\n",
       "    </tr>\n",
       "    <tr>\n",
       "      <th>3</th>\n",
       "      <td>1</td>\n",
       "      <td>89</td>\n",
       "      <td>66</td>\n",
       "      <td>23</td>\n",
       "      <td>94</td>\n",
       "      <td>28.1</td>\n",
       "      <td>0.167</td>\n",
       "      <td>21</td>\n",
       "      <td>0</td>\n",
       "    </tr>\n",
       "    <tr>\n",
       "      <th>4</th>\n",
       "      <td>0</td>\n",
       "      <td>137</td>\n",
       "      <td>40</td>\n",
       "      <td>35</td>\n",
       "      <td>168</td>\n",
       "      <td>43.1</td>\n",
       "      <td>2.288</td>\n",
       "      <td>33</td>\n",
       "      <td>1</td>\n",
       "    </tr>\n",
       "  </tbody>\n",
       "</table>\n",
       "</div>"
      ],
      "text/plain": [
       "   Pregnancies  Glucose  BloodPressure  SkinThickness  Insulin   BMI  \\\n",
       "0            6      148             72             35        0  33.6   \n",
       "1            1       85             66             29        0  26.6   \n",
       "2            8      183             64              0        0  23.3   \n",
       "3            1       89             66             23       94  28.1   \n",
       "4            0      137             40             35      168  43.1   \n",
       "\n",
       "   DiabetesPedigreeFunction  Age  Outcome  \n",
       "0                     0.627   50        1  \n",
       "1                     0.351   31        0  \n",
       "2                     0.672   32        1  \n",
       "3                     0.167   21        0  \n",
       "4                     2.288   33        1  "
      ]
     },
     "execution_count": 459,
     "metadata": {},
     "output_type": "execute_result"
    }
   ],
   "source": [
    "# 读取数据\n",
    "data = pd.read_csv(\"diabetes.csv\")\n",
    "data.head()"
   ]
  },
  {
   "cell_type": "code",
   "execution_count": 460,
   "metadata": {},
   "outputs": [
    {
     "name": "stdout",
     "output_type": "stream",
     "text": [
      "<class 'pandas.core.frame.DataFrame'>\n",
      "RangeIndex: 768 entries, 0 to 767\n",
      "Data columns (total 9 columns):\n",
      "Pregnancies                 768 non-null int64\n",
      "Glucose                     768 non-null int64\n",
      "BloodPressure               768 non-null int64\n",
      "SkinThickness               768 non-null int64\n",
      "Insulin                     768 non-null int64\n",
      "BMI                         768 non-null float64\n",
      "DiabetesPedigreeFunction    768 non-null float64\n",
      "Age                         768 non-null int64\n",
      "Outcome                     768 non-null int64\n",
      "dtypes: float64(2), int64(7)\n",
      "memory usage: 54.1 KB\n"
     ]
    }
   ],
   "source": [
    "data.info()"
   ]
  },
  {
   "cell_type": "code",
   "execution_count": 461,
   "metadata": {
    "scrolled": false
   },
   "outputs": [
    {
     "data": {
      "text/html": [
       "<div>\n",
       "<style scoped>\n",
       "    .dataframe tbody tr th:only-of-type {\n",
       "        vertical-align: middle;\n",
       "    }\n",
       "\n",
       "    .dataframe tbody tr th {\n",
       "        vertical-align: top;\n",
       "    }\n",
       "\n",
       "    .dataframe thead th {\n",
       "        text-align: right;\n",
       "    }\n",
       "</style>\n",
       "<table border=\"1\" class=\"dataframe\">\n",
       "  <thead>\n",
       "    <tr style=\"text-align: right;\">\n",
       "      <th></th>\n",
       "      <th>Pregnancies</th>\n",
       "      <th>Glucose</th>\n",
       "      <th>BloodPressure</th>\n",
       "      <th>SkinThickness</th>\n",
       "      <th>Insulin</th>\n",
       "      <th>BMI</th>\n",
       "      <th>DiabetesPedigreeFunction</th>\n",
       "      <th>Age</th>\n",
       "      <th>Outcome</th>\n",
       "    </tr>\n",
       "  </thead>\n",
       "  <tbody>\n",
       "    <tr>\n",
       "      <th>count</th>\n",
       "      <td>768.000000</td>\n",
       "      <td>768.000000</td>\n",
       "      <td>768.000000</td>\n",
       "      <td>768.000000</td>\n",
       "      <td>768.000000</td>\n",
       "      <td>768.000000</td>\n",
       "      <td>768.000000</td>\n",
       "      <td>768.000000</td>\n",
       "      <td>768.000000</td>\n",
       "    </tr>\n",
       "    <tr>\n",
       "      <th>mean</th>\n",
       "      <td>3.845052</td>\n",
       "      <td>120.894531</td>\n",
       "      <td>69.105469</td>\n",
       "      <td>20.536458</td>\n",
       "      <td>79.799479</td>\n",
       "      <td>31.992578</td>\n",
       "      <td>0.471876</td>\n",
       "      <td>33.240885</td>\n",
       "      <td>0.348958</td>\n",
       "    </tr>\n",
       "    <tr>\n",
       "      <th>std</th>\n",
       "      <td>3.369578</td>\n",
       "      <td>31.972618</td>\n",
       "      <td>19.355807</td>\n",
       "      <td>15.952218</td>\n",
       "      <td>115.244002</td>\n",
       "      <td>7.884160</td>\n",
       "      <td>0.331329</td>\n",
       "      <td>11.760232</td>\n",
       "      <td>0.476951</td>\n",
       "    </tr>\n",
       "    <tr>\n",
       "      <th>min</th>\n",
       "      <td>0.000000</td>\n",
       "      <td>0.000000</td>\n",
       "      <td>0.000000</td>\n",
       "      <td>0.000000</td>\n",
       "      <td>0.000000</td>\n",
       "      <td>0.000000</td>\n",
       "      <td>0.078000</td>\n",
       "      <td>21.000000</td>\n",
       "      <td>0.000000</td>\n",
       "    </tr>\n",
       "    <tr>\n",
       "      <th>25%</th>\n",
       "      <td>1.000000</td>\n",
       "      <td>99.000000</td>\n",
       "      <td>62.000000</td>\n",
       "      <td>0.000000</td>\n",
       "      <td>0.000000</td>\n",
       "      <td>27.300000</td>\n",
       "      <td>0.243750</td>\n",
       "      <td>24.000000</td>\n",
       "      <td>0.000000</td>\n",
       "    </tr>\n",
       "    <tr>\n",
       "      <th>50%</th>\n",
       "      <td>3.000000</td>\n",
       "      <td>117.000000</td>\n",
       "      <td>72.000000</td>\n",
       "      <td>23.000000</td>\n",
       "      <td>30.500000</td>\n",
       "      <td>32.000000</td>\n",
       "      <td>0.372500</td>\n",
       "      <td>29.000000</td>\n",
       "      <td>0.000000</td>\n",
       "    </tr>\n",
       "    <tr>\n",
       "      <th>75%</th>\n",
       "      <td>6.000000</td>\n",
       "      <td>140.250000</td>\n",
       "      <td>80.000000</td>\n",
       "      <td>32.000000</td>\n",
       "      <td>127.250000</td>\n",
       "      <td>36.600000</td>\n",
       "      <td>0.626250</td>\n",
       "      <td>41.000000</td>\n",
       "      <td>1.000000</td>\n",
       "    </tr>\n",
       "    <tr>\n",
       "      <th>max</th>\n",
       "      <td>17.000000</td>\n",
       "      <td>199.000000</td>\n",
       "      <td>122.000000</td>\n",
       "      <td>99.000000</td>\n",
       "      <td>846.000000</td>\n",
       "      <td>67.100000</td>\n",
       "      <td>2.420000</td>\n",
       "      <td>81.000000</td>\n",
       "      <td>1.000000</td>\n",
       "    </tr>\n",
       "  </tbody>\n",
       "</table>\n",
       "</div>"
      ],
      "text/plain": [
       "       Pregnancies     Glucose  BloodPressure  SkinThickness     Insulin  \\\n",
       "count   768.000000  768.000000     768.000000     768.000000  768.000000   \n",
       "mean      3.845052  120.894531      69.105469      20.536458   79.799479   \n",
       "std       3.369578   31.972618      19.355807      15.952218  115.244002   \n",
       "min       0.000000    0.000000       0.000000       0.000000    0.000000   \n",
       "25%       1.000000   99.000000      62.000000       0.000000    0.000000   \n",
       "50%       3.000000  117.000000      72.000000      23.000000   30.500000   \n",
       "75%       6.000000  140.250000      80.000000      32.000000  127.250000   \n",
       "max      17.000000  199.000000     122.000000      99.000000  846.000000   \n",
       "\n",
       "              BMI  DiabetesPedigreeFunction         Age     Outcome  \n",
       "count  768.000000                768.000000  768.000000  768.000000  \n",
       "mean    31.992578                  0.471876   33.240885    0.348958  \n",
       "std      7.884160                  0.331329   11.760232    0.476951  \n",
       "min      0.000000                  0.078000   21.000000    0.000000  \n",
       "25%     27.300000                  0.243750   24.000000    0.000000  \n",
       "50%     32.000000                  0.372500   29.000000    0.000000  \n",
       "75%     36.600000                  0.626250   41.000000    1.000000  \n",
       "max     67.100000                  2.420000   81.000000    1.000000  "
      ]
     },
     "execution_count": 461,
     "metadata": {},
     "output_type": "execute_result"
    }
   ],
   "source": [
    "# 各属性统计特征\n",
    "data.describe()"
   ]
  },
  {
   "cell_type": "markdown",
   "metadata": {},
   "source": [
    "从数据的大致取值可以看出，数据没有做脱敏处理，有单位和具体的物理含义，train.info虽然显示没有缺失值，但有些特征数据明显不对，如舒张压和体重等特征都不应该存在零值，（舒张压为0是说明这个人已经挂了么，体重身高比为0[捂脸]）应该是存在缺失值，但直接使用了零值进行填充，"
   ]
  },
  {
   "cell_type": "code",
   "execution_count": 462,
   "metadata": {
    "scrolled": true
   },
   "outputs": [
    {
     "data": {
      "image/png": "[encoded data removed]",
      "text/plain": [
       "<Figure size 432x288 with 1 Axes>"
      ]
     },
     "metadata": {},
     "output_type": "display_data"
    }
   ],
   "source": [
    "# Target 分布，看看各类样本分布是否均衡\n",
    "sns.countplot(data.Outcome);\n",
    "pyplot.xlabel('Outcome');\n",
    "pyplot.ylabel('Number of occurrences');"
   ]
  },
  {
   "cell_type": "markdown",
   "metadata": {},
   "source": [
    "分类结果中正例的样本约为反例样本的一半多一些，样本不均衡，交叉验证对分类任务缺省的是采用StratifiedKFold，在每折采样时根据各类样本按比例采样"
   ]
  },
  {
   "cell_type": "code",
   "execution_count": 463,
   "metadata": {},
   "outputs": [],
   "source": [
    "# 单变量分布"
   ]
  },
  {
   "cell_type": "code",
   "execution_count": 464,
   "metadata": {
    "scrolled": false
   },
   "outputs": [
    {
     "data": {
      "image/png": "[encoded data removed]",
      "text/plain": [
       "<Figure size 432x288 with 1 Axes>"
      ]
     },
     "metadata": {},
     "output_type": "display_data"
    }
   ],
   "source": [
    "#Pregnancies：离散变量，用countplot\n",
    "fig = plt.figure()\n",
    "# sns.distplot(data.weathersit.values, bins=30, kde=False)\n",
    "sns.countplot(data.Pregnancies.values)\n",
    "plt.xlabel('weathersit', fontsize=12)\n",
    "plt.show()"
   ]
  },
  {
   "cell_type": "markdown",
   "metadata": {},
   "source": [
    "随怀孕次数增多，样本逐渐减少，大多集中在0-2次，十次以上的样本非常少,比较符合常理"
   ]
  },
  {
   "cell_type": "code",
   "execution_count": 465,
   "metadata": {
    "scrolled": true
   },
   "outputs": [
    {
     "name": "stderr",
     "output_type": "stream",
     "text": [
      "C:\\ProgramData\\Anaconda3\\lib\\site-packages\\matplotlib\\axes\\_axes.py:6462: UserWarning: The 'normed' kwarg is deprecated, and has been replaced by the 'density' kwarg.\n",
      "  warnings.warn(\"The 'normed' kwarg is deprecated, and has been \"\n"
     ]
    },
    {
     "data": {
      "image/png": "[encoded data removed]",
      "text/plain": [
       "<Figure size 432x288 with 1 Axes>"
      ]
     },
     "metadata": {},
     "output_type": "display_data"
    }
   ],
   "source": [
    "#Glucose\n",
    "fig = plt.figure()\n",
    "sns.distplot(data.Glucose.values, bins=30, kde=True)#\n",
    "plt.xlabel('Glucose', fontsize=12)\n",
    "#在画板上显示\n",
    "plt.show()"
   ]
  },
  {
   "cell_type": "markdown",
   "metadata": {},
   "source": [
    "血浆葡萄糖浓度，正常情况下应该不会出现0值，应该是数据缺失，除了0值，其他的数据大致正态分布，符合常理"
   ]
  },
  {
   "cell_type": "code",
   "execution_count": 466,
   "metadata": {
    "scrolled": true
   },
   "outputs": [
    {
     "name": "stderr",
     "output_type": "stream",
     "text": [
      "C:\\ProgramData\\Anaconda3\\lib\\site-packages\\matplotlib\\axes\\_axes.py:6462: UserWarning: The 'normed' kwarg is deprecated, and has been replaced by the 'density' kwarg.\n",
      "  warnings.warn(\"The 'normed' kwarg is deprecated, and has been \"\n"
     ]
    },
    {
     "data": {
      "image/png": "[encoded data removed]",
      "text/plain": [
       "<Figure size 432x288 with 1 Axes>"
      ]
     },
     "metadata": {},
     "output_type": "display_data"
    }
   ],
   "source": [
    "fig = plt.figure()\n",
    "sns.distplot(data.BloodPressure.values, bins=30, kde=True)\n",
    "plt.xlabel('BloodPressure', fontsize=12)\n",
    "#在画板上显示\n",
    "plt.show()"
   ]
  },
  {
   "cell_type": "markdown",
   "metadata": {},
   "source": [
    "舒张压也不应该出现0值，除非这个人挂了，其他的数据大致成正态分布，60-80之间属于正常值，人数最多，符合常理"
   ]
  },
  {
   "cell_type": "code",
   "execution_count": 467,
   "metadata": {},
   "outputs": [
    {
     "name": "stderr",
     "output_type": "stream",
     "text": [
      "C:\\ProgramData\\Anaconda3\\lib\\site-packages\\matplotlib\\axes\\_axes.py:6462: UserWarning: The 'normed' kwarg is deprecated, and has been replaced by the 'density' kwarg.\n",
      "  warnings.warn(\"The 'normed' kwarg is deprecated, and has been \"\n"
     ]
    },
    {
     "data": {
      "image/png": "[encoded data removed]",
      "text/plain": [
       "<Figure size 432x288 with 1 Axes>"
      ]
     },
     "metadata": {},
     "output_type": "display_data"
    }
   ],
   "source": [
    "fig = plt.figure()\n",
    "sns.distplot(data.SkinThickness.values, bins=30, kde=False)\n",
    "plt.xlabel('SkinThickness', fontsize=12)\n",
    "#在画板上显示\n",
    "plt.show()"
   ]
  },
  {
   "cell_type": "markdown",
   "metadata": {},
   "source": [
    "三头肌皮肤褶层厚度，测量方法大概就是：揪起身上的一块肉（三头肌上的肉），测一下看知道自己是不是肥胖，即使瘦的皮包骨头也不该为0，但数据显示有230左右个0值，说明数据大概有1/3的样本数据缺失，缺失数据太多了，可以考虑去掉这个特征"
   ]
  },
  {
   "cell_type": "code",
   "execution_count": 468,
   "metadata": {
    "scrolled": false
   },
   "outputs": [
    {
     "name": "stderr",
     "output_type": "stream",
     "text": [
      "C:\\ProgramData\\Anaconda3\\lib\\site-packages\\matplotlib\\axes\\_axes.py:6462: UserWarning: The 'normed' kwarg is deprecated, and has been replaced by the 'density' kwarg.\n",
      "  warnings.warn(\"The 'normed' kwarg is deprecated, and has been \"\n"
     ]
    },
    {
     "data": {
      "image/png": "[encoded data removed]",
      "text/plain": [
       "<Figure size 432x288 with 1 Axes>"
      ]
     },
     "metadata": {},
     "output_type": "display_data"
    }
   ],
   "source": [
    "fig = plt.figure()\n",
    "sns.distplot(data.Insulin.values, bins=30, kde=False)\n",
    "plt.xlabel('Insulin', fontsize=12)\n",
    "#在画板上显示\n",
    "plt.show()"
   ]
  },
  {
   "cell_type": "markdown",
   "metadata": {},
   "source": [
    "人体血糖水平是动态平衡的，餐后血糖上升，用于降血糖的胰岛素含量也会上升用于调节血糖，故正常人2 小时血清胰岛素含量这个特征应该是在某个区间，但不该为0，上图有一半以上的数据都是0，可以考虑去掉该特征"
   ]
  },
  {
   "cell_type": "code",
   "execution_count": 469,
   "metadata": {
    "scrolled": false
   },
   "outputs": [
    {
     "name": "stderr",
     "output_type": "stream",
     "text": [
      "C:\\ProgramData\\Anaconda3\\lib\\site-packages\\matplotlib\\axes\\_axes.py:6462: UserWarning: The 'normed' kwarg is deprecated, and has been replaced by the 'density' kwarg.\n",
      "  warnings.warn(\"The 'normed' kwarg is deprecated, and has been \"\n"
     ]
    },
    {
     "data": {
      "image/png": "[encoded data removed]",
      "text/plain": [
       "<Figure size 432x288 with 1 Axes>"
      ]
     },
     "metadata": {},
     "output_type": "display_data"
    }
   ],
   "source": [
    "fig = plt.figure()\n",
    "sns.distplot(data.BMI.values, bins=30, kde=False)\n",
    "plt.xlabel('BMI', fontsize=12)\n",
    "#在画板上显示\n",
    "plt.show()"
   ]
  },
  {
   "cell_type": "markdown",
   "metadata": {},
   "source": [
    "数据反映被调查人的体重身高比，正常不应为0"
   ]
  },
  {
   "cell_type": "code",
   "execution_count": 470,
   "metadata": {
    "scrolled": true
   },
   "outputs": [
    {
     "name": "stderr",
     "output_type": "stream",
     "text": [
      "C:\\ProgramData\\Anaconda3\\lib\\site-packages\\matplotlib\\axes\\_axes.py:6462: UserWarning: The 'normed' kwarg is deprecated, and has been replaced by the 'density' kwarg.\n",
      "  warnings.warn(\"The 'normed' kwarg is deprecated, and has been \"\n"
     ]
    },
    {
     "data": {
      "image/png": "[encoded data removed]",
      "text/plain": [
       "<Figure size 432x288 with 1 Axes>"
      ]
     },
     "metadata": {},
     "output_type": "display_data"
    }
   ],
   "source": [
    "fig = plt.figure()\n",
    "sns.distplot(data.DiabetesPedigreeFunction.values, bins=30, kde=False)\n",
    "plt.xlabel('DiabetesPedigreeFunction', fontsize=12)\n",
    "#在画板上显示\n",
    "plt.show()"
   ]
  },
  {
   "cell_type": "code",
   "execution_count": 471,
   "metadata": {},
   "outputs": [
    {
     "name": "stderr",
     "output_type": "stream",
     "text": [
      "C:\\ProgramData\\Anaconda3\\lib\\site-packages\\matplotlib\\axes\\_axes.py:6462: UserWarning: The 'normed' kwarg is deprecated, and has been replaced by the 'density' kwarg.\n",
      "  warnings.warn(\"The 'normed' kwarg is deprecated, and has been \"\n"
     ]
    },
    {
     "data": {
      "image/png": "[encoded data removed]",
      "text/plain": [
       "<Figure size 432x288 with 1 Axes>"
      ]
     },
     "metadata": {},
     "output_type": "display_data"
    }
   ],
   "source": [
    "fig = plt.figure()\n",
    "sns.distplot(data.Age.values, bins=30, kde=False)\n",
    "plt.xlabel('Age', fontsize=12)\n",
    "#在画板上显示\n",
    "plt.show()"
   ]
  },
  {
   "cell_type": "markdown",
   "metadata": {},
   "source": [
    "反映被调查人的年龄阶段分布"
   ]
  },
  {
   "cell_type": "markdown",
   "metadata": {},
   "source": [
    "## 数据准备"
   ]
  },
  {
   "cell_type": "code",
   "execution_count": 472,
   "metadata": {},
   "outputs": [
    {
     "data": {
      "text/plain": [
       "(768, 8)"
      ]
     },
     "execution_count": 472,
     "metadata": {},
     "output_type": "execute_result"
    }
   ],
   "source": [
    "data = data.drop('SkinThickness', axis=1)\n",
    "#data = data.drop('Insulin', axis=1)\n",
    "\n",
    "data.shape"
   ]
  },
  {
   "cell_type": "code",
   "execution_count": 473,
   "metadata": {},
   "outputs": [
    {
     "data": {
      "text/plain": [
       "(768, 8)"
      ]
     },
     "execution_count": 473,
     "metadata": {},
     "output_type": "execute_result"
    }
   ],
   "source": [
    "for i in range(768):\n",
    "    if data.Glucose.values[i] == 0:\n",
    "        data.Glucose.values[i] = 117\n",
    "    if data.BloodPressure.values[i] == 0:\n",
    "        data.BloodPressure.values[i] = 72\n",
    "    if data.BMI.values[i] == 0:\n",
    "        data.BMI.values[i] = 32\n",
    "        \n",
    "data.shape"
   ]
  },
  {
   "cell_type": "markdown",
   "metadata": {},
   "source": [
    "从特征工程可看出，有三个特征对应的样本数据存在少部分缺失，其中零值即为缺失值，使用对应特征的中位数进行替换填充，由于读取的数据文件缺失值使用了零值编码，而不是直接空着，无法使用sklearn.preprocessing.Imputer进行填充，故使用循环判断的方式进行填充 \n",
    "\n",
    "其中中位数如下：  \n",
    "Glucose ：117  \n",
    "BloodPressure ：72  \n",
    "BMI ：32  "
   ]
  },
  {
   "cell_type": "code",
   "execution_count": 474,
   "metadata": {},
   "outputs": [],
   "source": [
    "# 从原始数据中分离输入特征x和输出y\n",
    "y = data['Outcome'].values\n",
    "X = data.drop('Outcome', axis = 1)\n",
    "\n",
    "#用于后续显示权重系数对应的特征\n",
    "#columns = X.columns"
   ]
  },
  {
   "cell_type": "code",
   "execution_count": 475,
   "metadata": {},
   "outputs": [
    {
     "data": {
      "text/plain": [
       "(614, 7)"
      ]
     },
     "execution_count": 475,
     "metadata": {},
     "output_type": "execute_result"
    }
   ],
   "source": [
    "#将数据分割训练数据与测试数据\n",
    "from sklearn.model_selection import train_test_split\n",
    "\n",
    "# 随机采样20%的数据构建测试样本，其余作为训练样本\n",
    "X_train, X_test, y_train, y_test = train_test_split(X, y, random_state=33, test_size=0.2)\n",
    "X_train.shape"
   ]
  },
  {
   "cell_type": "code",
   "execution_count": 476,
   "metadata": {},
   "outputs": [],
   "source": [
    "X_train = np.array(X_train)\n",
    "X_test = np.array(X_test)"
   ]
  },
  {
   "cell_type": "markdown",
   "metadata": {},
   "source": [
    "## 数据预处理"
   ]
  },
  {
   "cell_type": "code",
   "execution_count": 477,
   "metadata": {},
   "outputs": [],
   "source": [
    "# 数据标准化\n",
    "from sklearn.preprocessing import StandardScaler\n",
    "\n",
    "# 初始化特征的标准化器\n",
    "ss_X = StandardScaler()\n",
    "\n",
    "# 分别对训练和测试数据的特征进行标准化处理\n",
    "X_train = ss_X.fit_transform(X_train)\n",
    "X_test = ss_X.transform(X_test)"
   ]
  },
  {
   "cell_type": "markdown",
   "metadata": {},
   "source": [
    "## 模型训练"
   ]
  },
  {
   "cell_type": "markdown",
   "metadata": {},
   "source": [
    "### 1 Logistic Regression"
   ]
  },
  {
   "cell_type": "markdown",
   "metadata": {},
   "source": [
    "### 1.1 default Logistic Regression"
   ]
  },
  {
   "cell_type": "code",
   "execution_count": 478,
   "metadata": {},
   "outputs": [
    {
     "name": "stdout",
     "output_type": "stream",
     "text": [
      "logloss of each fold is:  [0.45679707 0.47306945 0.52941982 0.4177863  0.46965247]\n",
      "cv logloss is: 0.469345022245065\n",
      "logloss of each fold is:  [0.56949772 0.46030145 0.58767129 0.5112334  0.72386985]\n",
      "cv logloss is: 0.5705147428359226\n"
     ]
    }
   ],
   "source": [
    "from sklearn.linear_model import LogisticRegression\n",
    "lr= LogisticRegression()\n",
    "\n",
    "# 交叉验证用于评估模型性能和进行参数调优（模型选择）\n",
    "#分类任务中交叉验证缺省是采用StratifiedKFold\n",
    "from sklearn.cross_validation import cross_val_score\n",
    "loss = cross_val_score(lr, X_train, y_train, cv=5, scoring='neg_log_loss')\n",
    "print ('logloss of each fold is: ',-loss)\n",
    "print('cv logloss is:', -loss.mean())\n",
    "\n",
    "loss_y = cross_val_score(lr, X_test, y_test, cv=5, scoring='neg_log_loss')\n",
    "print ('logloss of each fold is: ',-loss_y)\n",
    "print('cv logloss is:', -loss_y.mean())"
   ]
  },
  {
   "cell_type": "markdown",
   "metadata": {},
   "source": [
    "使用缺省参数的logistic回归模型，即正则函数penalty='l2',正则参数C=1.0  \n",
    "使用5折交叉验证来评价模型性能和参数调优，其中评价指标选择neg_log_loss，由于是负数，打印结果进行取反，其中损失值越小越好，最终得出的logloss值为0.48012474004701106"
   ]
  },
  {
   "cell_type": "markdown",
   "metadata": {},
   "source": [
    "### 1.2 正则化的 Logistic Regression及参数调优"
   ]
  },
  {
   "cell_type": "markdown",
   "metadata": {},
   "source": [
    "目标函数：J = sum(logloss(f(xi), yi)) + C* penalty  \n",
    "\n",
    "需要调整的超参数：  \n",
    "1）C 正则系数，一般在log域（取log后的值）均匀设置候选参数  \n",
    "2）penalty 正则函数（L2/L1）\n",
    "\n",
    "skilearn中调用方法：置候选参数集合，以字典形式存储，调用GridSearchCV，调用fit"
   ]
  },
  {
   "cell_type": "code",
   "execution_count": 479,
   "metadata": {
    "scrolled": false
   },
   "outputs": [
    {
     "data": {
      "text/plain": [
       "GridSearchCV(cv=5, error_score='raise',\n",
       "       estimator=LogisticRegression(C=1.0, class_weight=None, dual=False, fit_intercept=True,\n",
       "          intercept_scaling=1, max_iter=100, multi_class='ovr', n_jobs=1,\n",
       "          penalty='l2', random_state=None, solver='liblinear', tol=0.0001,\n",
       "          verbose=0, warm_start=False),\n",
       "       fit_params=None, iid=True, n_jobs=1,\n",
       "       param_grid={'penalty': ['l1', 'l2'], 'C': [0.001, 0.01, 0.1, 1, 10, 100, 1000]},\n",
       "       pre_dispatch='2*n_jobs', refit=True, return_train_score='warn',\n",
       "       scoring='neg_log_loss', verbose=0)"
      ]
     },
     "execution_count": 479,
     "metadata": {},
     "output_type": "execute_result"
    }
   ],
   "source": [
    "from sklearn.model_selection import GridSearchCV\n",
    "from sklearn.linear_model import LogisticRegression\n",
    "\n",
    "#需要调优的参数\n",
    "#tuned_parameters = {'penalty':['l1','l2'],\n",
    "#                   'C': [0.001, 0.01, 0.1, 1, 10, 100, 1000]\n",
    "#                   }\n",
    "penaltys = ['l1','l2']\n",
    "Cs = [0.001, 0.01, 0.1, 1, 10, 100, 1000]\n",
    "tuned_parameters = dict(penalty = penaltys, C = Cs)\n",
    "\n",
    "lr_penalty= LogisticRegression()\n",
    "grid= GridSearchCV(lr_penalty, tuned_parameters,cv=5, scoring='neg_log_loss')\n",
    "grid.fit(X_train,y_train)"
   ]
  },
  {
   "cell_type": "markdown",
   "metadata": {},
   "source": [
    "查看交叉网格搜索的完整结果（存放在cv_results_中）"
   ]
  },
  {
   "cell_type": "code",
   "execution_count": 480,
   "metadata": {
    "scrolled": true
   },
   "outputs": [
    {
     "name": "stderr",
     "output_type": "stream",
     "text": [
      "C:\\ProgramData\\Anaconda3\\lib\\site-packages\\sklearn\\utils\\deprecation.py:122: FutureWarning: You are accessing a training score ('mean_train_score'), which will not be available by default any more in 0.21. If you need training scores, please set return_train_score=True\n",
      "  warnings.warn(*warn_args, **warn_kwargs)\n",
      "C:\\ProgramData\\Anaconda3\\lib\\site-packages\\sklearn\\utils\\deprecation.py:122: FutureWarning: You are accessing a training score ('split0_train_score'), which will not be available by default any more in 0.21. If you need training scores, please set return_train_score=True\n",
      "  warnings.warn(*warn_args, **warn_kwargs)\n",
      "C:\\ProgramData\\Anaconda3\\lib\\site-packages\\sklearn\\utils\\deprecation.py:122: FutureWarning: You are accessing a training score ('split1_train_score'), which will not be available by default any more in 0.21. If you need training scores, please set return_train_score=True\n",
      "  warnings.warn(*warn_args, **warn_kwargs)\n",
      "C:\\ProgramData\\Anaconda3\\lib\\site-packages\\sklearn\\utils\\deprecation.py:122: FutureWarning: You are accessing a training score ('split2_train_score'), which will not be available by default any more in 0.21. If you need training scores, please set return_train_score=True\n",
      "  warnings.warn(*warn_args, **warn_kwargs)\n",
      "C:\\ProgramData\\Anaconda3\\lib\\site-packages\\sklearn\\utils\\deprecation.py:122: FutureWarning: You are accessing a training score ('split3_train_score'), which will not be available by default any more in 0.21. If you need training scores, please set return_train_score=True\n",
      "  warnings.warn(*warn_args, **warn_kwargs)\n",
      "C:\\ProgramData\\Anaconda3\\lib\\site-packages\\sklearn\\utils\\deprecation.py:122: FutureWarning: You are accessing a training score ('split4_train_score'), which will not be available by default any more in 0.21. If you need training scores, please set return_train_score=True\n",
      "  warnings.warn(*warn_args, **warn_kwargs)\n",
      "C:\\ProgramData\\Anaconda3\\lib\\site-packages\\sklearn\\utils\\deprecation.py:122: FutureWarning: You are accessing a training score ('std_train_score'), which will not be available by default any more in 0.21. If you need training scores, please set return_train_score=True\n",
      "  warnings.warn(*warn_args, **warn_kwargs)\n"
     ]
    },
    {
     "data": {
      "text/plain": [
       "{'mean_fit_time': array([0.00120049, 0.00160117, 0.00080028, 0.00160131, 0.00140061,\n",
       "        0.00140114, 0.00120091, 0.00100079, 0.00160098, 0.00100121,\n",
       "        0.00120068, 0.00100088, 0.00140114, 0.001401  ]),\n",
       " 'mean_score_time': array([0.00120087, 0.00120053, 0.00120091, 0.00100074, 0.00080075,\n",
       "        0.00080066, 0.00080013, 0.00100069, 0.00060039, 0.00100045,\n",
       "        0.00100064, 0.00100074, 0.00080037, 0.00100036]),\n",
       " 'mean_test_score': array([-0.69314718, -0.63827633, -0.66359655, -0.51918011, -0.47469286,\n",
       "        -0.46995731, -0.46980448, -0.46940806, -0.47001165, -0.46998406,\n",
       "        -0.47005338, -0.47005365, -0.47005963, -0.47006074]),\n",
       " 'mean_train_score': array([-0.69314718, -0.63754022, -0.66249583, -0.51492301, -0.46466932,\n",
       "        -0.45830275, -0.45386193, -0.4537296 , -0.45364807, -0.45364673,\n",
       "        -0.45364583, -0.45364581, -0.4536458 , -0.4536458 ]),\n",
       " 'param_C': masked_array(data=[0.001, 0.001, 0.01, 0.01, 0.1, 0.1, 1, 1, 10, 10, 100,\n",
       "                    100, 1000, 1000],\n",
       "              mask=[False, False, False, False, False, False, False, False,\n",
       "                    False, False, False, False, False, False],\n",
       "        fill_value='?',\n",
       "             dtype=object),\n",
       " 'param_penalty': masked_array(data=['l1', 'l2', 'l1', 'l2', 'l1', 'l2', 'l1', 'l2', 'l1',\n",
       "                    'l2', 'l1', 'l2', 'l1', 'l2'],\n",
       "              mask=[False, False, False, False, False, False, False, False,\n",
       "                    False, False, False, False, False, False],\n",
       "        fill_value='?',\n",
       "             dtype=object),\n",
       " 'params': [{'C': 0.001, 'penalty': 'l1'},\n",
       "  {'C': 0.001, 'penalty': 'l2'},\n",
       "  {'C': 0.01, 'penalty': 'l1'},\n",
       "  {'C': 0.01, 'penalty': 'l2'},\n",
       "  {'C': 0.1, 'penalty': 'l1'},\n",
       "  {'C': 0.1, 'penalty': 'l2'},\n",
       "  {'C': 1, 'penalty': 'l1'},\n",
       "  {'C': 1, 'penalty': 'l2'},\n",
       "  {'C': 10, 'penalty': 'l1'},\n",
       "  {'C': 10, 'penalty': 'l2'},\n",
       "  {'C': 100, 'penalty': 'l1'},\n",
       "  {'C': 100, 'penalty': 'l2'},\n",
       "  {'C': 1000, 'penalty': 'l1'},\n",
       "  {'C': 1000, 'penalty': 'l2'}],\n",
       " 'rank_test_score': array([14, 12, 13, 11, 10,  3,  2,  1,  5,  4,  6,  7,  8,  9]),\n",
       " 'split0_test_score': array([-0.69314718, -0.63879793, -0.66245427, -0.51815689, -0.47688715,\n",
       "        -0.46213674, -0.4591618 , -0.45679707, -0.45674627, -0.45652485,\n",
       "        -0.45651881, -0.45650271, -0.45649902, -0.45650056]),\n",
       " 'split0_train_score': array([-0.69314718, -0.63763049, -0.65374624, -0.51609693, -0.46580645,\n",
       "        -0.46096146, -0.45685969, -0.45672775, -0.456655  , -0.45665372,\n",
       "        -0.45665292, -0.45665291, -0.4566529 , -0.4566529 ]),\n",
       " 'split1_test_score': array([-0.69314718, -0.64010309, -0.66356146, -0.5273538 , -0.47456064,\n",
       "        -0.47779433, -0.47276552, -0.47306945, -0.47277092, -0.47281708,\n",
       "        -0.47279121, -0.47279607, -0.47279574, -0.47279402]),\n",
       " 'split1_train_score': array([-0.69314718, -0.63651289, -0.66509055, -0.51266742, -0.46475061,\n",
       "        -0.45817369, -0.45431311, -0.45417516, -0.45410809, -0.45410668,\n",
       "        -0.45410593, -0.45410591, -0.4541059 , -0.4541059 ]),\n",
       " 'split2_test_score': array([-0.69314718, -0.63994469, -0.66119179, -0.53091418, -0.50883021,\n",
       "        -0.51152388, -0.52875606, -0.52941982, -0.53303155, -0.53310008,\n",
       "        -0.53348982, -0.53350334, -0.53353426, -0.53354405]),\n",
       " 'split2_train_score': array([-0.69314718, -0.63647746, -0.65490611, -0.50887194, -0.45277991,\n",
       "        -0.44477393, -0.43894324, -0.43881918, -0.4387035 , -0.43870229,\n",
       "        -0.43870099, -0.43870097, -0.43870096, -0.43870096]),\n",
       " 'split3_test_score': array([-0.69314718, -0.63308469, -0.66721469, -0.49417598, -0.43761793,\n",
       "        -0.42488255, -0.41860678, -0.4177863 , -0.41747142, -0.41740083,\n",
       "        -0.41737666, -0.41736873, -0.41736567, -0.41736559]),\n",
       " 'split3_train_score': array([-0.69314718, -0.64042628, -0.67228314, -0.52417435, -0.47640988,\n",
       "        -0.47013187, -0.46596792, -0.46584018, -0.46576549, -0.46576416,\n",
       "        -0.46576334, -0.46576333, -0.46576332, -0.46576332]),\n",
       " 'split4_test_score': array([-0.69314718, -0.63941407, -0.66359927, -0.52515329, -0.47525369,\n",
       "        -0.47317231, -0.46939921, -0.46965247, -0.46971637, -0.46975751,\n",
       "        -0.46976985, -0.46977701, -0.46978305, -0.46977906]),\n",
       " 'split4_train_score': array([-0.69314718, -0.63665397, -0.6664531 , -0.51280443, -0.46359976,\n",
       "        -0.45747282, -0.45322571, -0.45308572, -0.45300826, -0.45300682,\n",
       "        -0.45300596, -0.45300594, -0.45300593, -0.45300593]),\n",
       " 'std_fit_time': array([4.00400290e-04, 4.89064432e-04, 4.00138281e-04, 4.90154518e-04,\n",
       "        4.89473183e-04, 4.90310261e-04, 3.99947206e-04, 1.90734863e-07,\n",
       "        4.89881945e-04, 1.51990675e-06, 4.00066376e-04, 3.01578299e-07,\n",
       "        4.90310400e-04, 4.90135007e-04]),\n",
       " 'std_score_time': array([4.00090285e-04, 4.01092465e-04, 3.99590022e-04, 6.32636080e-04,\n",
       "        4.00376586e-04, 4.00329414e-04, 4.00067086e-04, 2.78041453e-07,\n",
       "        4.90212867e-04, 2.33601546e-07, 2.61174468e-07, 4.42200589e-07,\n",
       "        4.00185965e-04, 6.32108625e-04]),\n",
       " 'std_test_score': array([0.        , 0.00262559, 0.00200583, 0.01313368, 0.02253018,\n",
       "        0.02786625, 0.03523747, 0.0358575 , 0.03716415, 0.03722395,\n",
       "        0.03736324, 0.0373713 , 0.03738293, 0.03738615]),\n",
       " 'std_train_score': array([0.        , 0.00150385, 0.00710413, 0.00516056, 0.00750523,\n",
       "        0.00813303, 0.00870307, 0.00870159, 0.0087159 , 0.00871586,\n",
       "        0.00871603, 0.00871603, 0.00871604, 0.00871604])}"
      ]
     },
     "execution_count": 480,
     "metadata": {},
     "output_type": "execute_result"
    }
   ],
   "source": [
    "# view the complete results (list of named tuples)\n",
    "grid.cv_results_"
   ]
  },
  {
   "cell_type": "markdown",
   "metadata": {},
   "source": [
    "取出交叉搜索得出的最优超参数 C 和 penalty，以及分数"
   ]
  },
  {
   "cell_type": "code",
   "execution_count": 481,
   "metadata": {
    "scrolled": true
   },
   "outputs": [
    {
     "name": "stdout",
     "output_type": "stream",
     "text": [
      "0.46940805697936966\n",
      "{'C': 1, 'penalty': 'l2'}\n"
     ]
    }
   ],
   "source": [
    "# examine the best model\n",
    "print(-grid.best_score_)\n",
    "print(grid.best_params_)"
   ]
  },
  {
   "cell_type": "markdown",
   "metadata": {},
   "source": [
    "得出最优超参数 C = 0.1，l2正则，分数为0.4799994349368312，比缺省参数C=1，l2正则的0.48012474004701106好一点点，C = 1/lamda，则lamda=10,惩罚项还是挺大的  \n",
    "由于C = 0.1在所设置的候选参数中间，所以以上的候选参数范围不需要变更，若最佳值在候选参数边缘，如0.001或1000，则再尝试更大的候选参数或更小的候选参数，直到找到拐点"
   ]
  },
  {
   "cell_type": "code",
   "execution_count": 482,
   "metadata": {},
   "outputs": [
    {
     "name": "stderr",
     "output_type": "stream",
     "text": [
      "C:\\ProgramData\\Anaconda3\\lib\\site-packages\\sklearn\\utils\\deprecation.py:122: FutureWarning: You are accessing a training score ('mean_train_score'), which will not be available by default any more in 0.21. If you need training scores, please set return_train_score=True\n",
      "  warnings.warn(*warn_args, **warn_kwargs)\n",
      "C:\\ProgramData\\Anaconda3\\lib\\site-packages\\sklearn\\utils\\deprecation.py:122: FutureWarning: You are accessing a training score ('std_train_score'), which will not be available by default any more in 0.21. If you need training scores, please set return_train_score=True\n",
      "  warnings.warn(*warn_args, **warn_kwargs)\n"
     ]
    },
    {
     "data": {
      "image/png": "[encoded data removed]",
      "text/plain": [
       "<Figure size 432x288 with 1 Axes>"
      ]
     },
     "metadata": {},
     "output_type": "display_data"
    }
   ],
   "source": [
    "# plot CV误差曲线\n",
    "test_means = grid.cv_results_[ 'mean_test_score' ]\n",
    "test_stds = grid.cv_results_[ 'std_test_score' ]\n",
    "train_means = grid.cv_results_[ 'mean_train_score' ]\n",
    "train_stds = grid.cv_results_[ 'std_train_score' ]\n",
    "\n",
    "\n",
    "# plot results\n",
    "n_Cs = len(Cs)\n",
    "number_penaltys = len(penaltys)\n",
    "test_scores = -np.array(test_means).reshape(n_Cs,number_penaltys)\n",
    "train_scores = -np.array(train_means).reshape(n_Cs,number_penaltys)\n",
    "test_stds = -np.array(test_stds).reshape(n_Cs,number_penaltys)\n",
    "train_stds = -np.array(train_stds).reshape(n_Cs,number_penaltys)\n",
    "\n",
    "x_axis = np.log10(Cs)\n",
    "for i, value in enumerate(penaltys):\n",
    "    #pyplot.plot(log(Cs), test_scores[i], label= 'penalty:'   + str(value))\n",
    "    pyplot.errorbar(x_axis, test_scores[:,i], yerr=test_stds[:,i] ,label = penaltys[i] +' Test')\n",
    "    pyplot.errorbar(x_axis, train_scores[:,i], yerr=train_stds[:,i] ,label = penaltys[i] +' Train')\n",
    "    \n",
    "pyplot.legend()\n",
    "pyplot.xlabel( 'log(C)' )                                                                                                      \n",
    "pyplot.ylabel( '- neg-logloss' )\n",
    "pyplot.savefig('LogisticGridSearchCV_C.png' )\n",
    "\n",
    "pyplot.show()"
   ]
  },
  {
   "cell_type": "markdown",
   "metadata": {},
   "source": [
    "在L1正则和L2正则下，不同的正则参数C对应的模型在训练集上和测试集上的负log损失，可以看出在训练集上C越大（正则越小）的模型性能越好，但在测试集上，L2正则时，当C=0.1(log(C)=-1)时性能最好，L1正则时，当C=1(log(C)=0)时性能最好"
   ]
  },
  {
   "cell_type": "markdown",
   "metadata": {},
   "source": [
    "### 1.3 用LogisticRegressionCV实现正则化的 Logistic Regression"
   ]
  },
  {
   "cell_type": "markdown",
   "metadata": {},
   "source": [
    "### 1.3.1 L1正则"
   ]
  },
  {
   "cell_type": "code",
   "execution_count": 483,
   "metadata": {},
   "outputs": [
    {
     "data": {
      "text/plain": [
       "LogisticRegressionCV(Cs=[0.01, 0.1, 1, 10, 100], class_weight=None, cv=5,\n",
       "           dual=False, fit_intercept=True, intercept_scaling=1.0,\n",
       "           max_iter=100, multi_class='ovr', n_jobs=1, penalty='l1',\n",
       "           random_state=None, refit=True, scoring='neg_log_loss',\n",
       "           solver='liblinear', tol=0.0001, verbose=0)"
      ]
     },
     "execution_count": 483,
     "metadata": {},
     "output_type": "execute_result"
    }
   ],
   "source": [
    "from sklearn.linear_model import LogisticRegressionCV\n",
    "\n",
    "Cs = [0.01, 0.1, 1, 10, 100]\n",
    "\n",
    "# LogisticRegressionCV比GridSearchCV快\n",
    "lrcv_L1 = LogisticRegressionCV(Cs=Cs, cv = 5, scoring='neg_log_loss', penalty='l1', solver='liblinear', multi_class='ovr')\n",
    "lrcv_L1.fit(X_train, y_train)    "
   ]
  },
  {
   "cell_type": "markdown",
   "metadata": {},
   "source": [
    "由缺省参数的logistic回归可得出，L1正则下，最优的正则系数C大概是1左右，故选取的候选区间以1为中心，取五个进行比较"
   ]
  },
  {
   "cell_type": "code",
   "execution_count": 484,
   "metadata": {
    "scrolled": true
   },
   "outputs": [
    {
     "data": {
      "text/plain": [
       "{1: array([[-0.66245427, -0.4768886 , -0.45915544, -0.45675538, -0.45651994],\n",
       "        [-0.66356146, -0.47456863, -0.47277464, -0.47276702, -0.47279156],\n",
       "        [-0.66119179, -0.5088274 , -0.52875403, -0.53303202, -0.53349507],\n",
       "        [-0.66721469, -0.4376201 , -0.41860592, -0.41747482, -0.41737729],\n",
       "        [-0.66359927, -0.47525216, -0.46939851, -0.46971639, -0.46976873]])}"
      ]
     },
     "execution_count": 484,
     "metadata": {},
     "output_type": "execute_result"
    }
   ],
   "source": [
    "lrcv_L1.scores_"
   ]
  },
  {
   "cell_type": "code",
   "execution_count": 485,
   "metadata": {},
   "outputs": [
    {
     "data": {
      "image/png": "[encoded data removed]",
      "text/plain": [
       "<Figure size 432x288 with 1 Axes>"
      ]
     },
     "metadata": {},
     "output_type": "display_data"
    }
   ],
   "source": [
    "# scores_：dict with classes as the keys, and the values as the grid of scores obtained during cross-validating each fold,\n",
    "# Each dict value has shape (n_folds, len(Cs))\n",
    "n_Cs = len(Cs)\n",
    "#n_classes = 9\n",
    "#scores =  np.zeros((n_classes,n_Cs))\n",
    "\n",
    "#for j in range(n_classes):\n",
    "#        scores[j][:] = np.mean(lrcv_L1.scores_[1],axis = 0)\n",
    "scores =  np.zeros((1,n_Cs))\n",
    "scores[0][:] = np.mean(lrcv_L1.scores_[1],axis = 0)\n",
    "    \n",
    "mse_mean = -np.mean(scores, axis = 0)\n",
    "pyplot.plot(np.log10(Cs), mse_mean.reshape(n_Cs,1)) \n",
    "pyplot.xlabel('log(C)')\n",
    "pyplot.ylabel('neg-logloss')\n",
    "pyplot.show()\n",
    "\n"
   ]
  },
  {
   "cell_type": "code",
   "execution_count": 486,
   "metadata": {},
   "outputs": [
    {
     "data": {
      "text/plain": [
       "array([[ 0.4169615 ,  1.13463756, -0.13764634, -0.12840004,  0.74003233,\n",
       "         0.2035019 ,  0.13138584]])"
      ]
     },
     "execution_count": 486,
     "metadata": {},
     "output_type": "execute_result"
    }
   ],
   "source": [
    "lrcv_L1.coef_"
   ]
  },
  {
   "cell_type": "markdown",
   "metadata": {},
   "source": [
    "### 1.3.2 L2正则"
   ]
  },
  {
   "cell_type": "code",
   "execution_count": 487,
   "metadata": {},
   "outputs": [
    {
     "data": {
      "text/plain": [
       "LogisticRegressionCV(Cs=[0.001, 0.01, 0.1, 1, 10], class_weight=None, cv=5,\n",
       "           dual=False, fit_intercept=True, intercept_scaling=1.0,\n",
       "           max_iter=100, multi_class='ovr', n_jobs=1, penalty='l2',\n",
       "           random_state=None, refit=True, scoring='neg_log_loss',\n",
       "           solver='liblinear', tol=0.0001, verbose=0)"
      ]
     },
     "execution_count": 487,
     "metadata": {},
     "output_type": "execute_result"
    }
   ],
   "source": [
    "from sklearn.linear_model import LogisticRegressionCV\n",
    "\n",
    "#Cs = [1, 10,100,1000]\n",
    "Cs = [0.001, 0.01, 0.1, 1, 10]\n",
    "\n",
    "# 大量样本（6W+）、高维度（93），L2正则 --> 缺省用lbfgs，为了和GridSeachCV比较，也用liblinear\n",
    "\n",
    "lrcv_L2 = LogisticRegressionCV(Cs=Cs, cv = 5, scoring='neg_log_loss', penalty='l2', solver='liblinear', multi_class='ovr')\n",
    "lrcv_L2.fit(X_train, y_train)    "
   ]
  },
  {
   "cell_type": "code",
   "execution_count": 488,
   "metadata": {},
   "outputs": [
    {
     "data": {
      "text/plain": [
       "{1: array([[-0.63879793, -0.51815689, -0.46213674, -0.45679707, -0.45652485],\n",
       "        [-0.64010309, -0.5273538 , -0.47779433, -0.47306945, -0.47281708],\n",
       "        [-0.63994469, -0.53091418, -0.51152388, -0.52941982, -0.53310008],\n",
       "        [-0.63308469, -0.49417598, -0.42488255, -0.4177863 , -0.41740083],\n",
       "        [-0.63941407, -0.52515329, -0.47317231, -0.46965247, -0.46975751]])}"
      ]
     },
     "execution_count": 488,
     "metadata": {},
     "output_type": "execute_result"
    }
   ],
   "source": [
    "lrcv_L2.scores_"
   ]
  },
  {
   "cell_type": "code",
   "execution_count": 489,
   "metadata": {},
   "outputs": [
    {
     "data": {
      "image/png": "[encoded data removed]",
      "text/plain": [
       "<Figure size 432x288 with 1 Axes>"
      ]
     },
     "metadata": {},
     "output_type": "display_data"
    }
   ],
   "source": [
    "# scores_：dict with classes as the keys, and the values as the grid of scores obtained during cross-validating each fold,\n",
    "# Each dict value has shape (n_folds, len(Cs))\n",
    "n_Cs = len(Cs)\n",
    "#n_classes = 9\n",
    "#scores =  np.zeros((n_classes,n_Cs))\n",
    "\n",
    "#for j in range(n_classes):\n",
    "#        scores[j][:] = np.mean(lrcv_L1.scores_[1],axis = 0)\n",
    "scores =  np.zeros((1,n_Cs))\n",
    "scores[0][:] = -np.mean(lrcv_L2.scores_[1],axis = 0)\n",
    "    \n",
    "mse_mean = np.mean(scores, axis = 0)\n",
    "pyplot.plot(np.log10(Cs), mse_mean.reshape(n_Cs,1)) \n",
    "pyplot.xlabel('log(C)')\n",
    "pyplot.ylabel('neg-logloss')\n",
    "pyplot.show()"
   ]
  },
  {
   "cell_type": "markdown",
   "metadata": {},
   "source": [
    "### 2 SVM"
   ]
  },
  {
   "cell_type": "code",
   "execution_count": 490,
   "metadata": {},
   "outputs": [],
   "source": [
    "def LinearSVC_performance(C, X_train, y_train, X_test, y_test):\n",
    "    \n",
    "    # 在训练集是那个利用SVC训练\n",
    "    SVC2 =  LinearSVC( C = C)\n",
    "    SVC2 = SVC2.fit(X_train, y_train)\n",
    "    \n",
    "    # 在校验集上返回accuracy\n",
    "    accuracy = SVC2.score(X_test, y_test)\n",
    "    \n",
    "    print(\"accuracy: {}\".format(accuracy))\n",
    "    return accuracy"
   ]
  },
  {
   "cell_type": "markdown",
   "metadata": {},
   "source": [
    "定义模型性能最终评估函数，在测试集上使用训练得到的LinearSVC（包含已确定的参数C）进行数据分类，并返回正确率"
   ]
  },
  {
   "cell_type": "markdown",
   "metadata": {},
   "source": [
    "### 2.1 default SVC"
   ]
  },
  {
   "cell_type": "markdown",
   "metadata": {},
   "source": [
    "由于LinerSVC是基于libliner实现的SVM的，而SVC/NuSVC是基于libsvm实现的，所以如果核函数想采用的线性核，linerSVC的训练效率更高一点，且可以有更多正则选择（L1/L2）和损失函数选择"
   ]
  },
  {
   "cell_type": "code",
   "execution_count": 491,
   "metadata": {},
   "outputs": [],
   "source": [
    "from sklearn.svm import LinearSVC\n",
    "\n",
    "SVC1_train = LinearSVC()"
   ]
  },
  {
   "cell_type": "code",
   "execution_count": 492,
   "metadata": {},
   "outputs": [
    {
     "name": "stdout",
     "output_type": "stream",
     "text": [
      "accuracy of each fold is:  [0.78225806 0.74796748 0.74796748 0.80327869 0.80327869]\n",
      "cv accuracy is: 0.7769500801829805\n"
     ]
    }
   ],
   "source": [
    "from sklearn.cross_validation import cross_val_score\n",
    "accuracy = cross_val_score(SVC1_train, X_train, y_train, cv=5, scoring='accuracy')\n",
    "print('accuracy of each fold is: ',accuracy)\n",
    "print('cv accuracy is:', accuracy.mean())"
   ]
  },
  {
   "cell_type": "markdown",
   "metadata": {},
   "source": [
    "由于本数据集的样本数只有768个，数据量不大，使用交叉验证得出模型在训练集上的正确率比较合适  \n",
    "上述结果得出，缺省参数（C = 1.0）的LinearSVC模型训练后，在训练集上的准确率为 0.7818414569656008"
   ]
  },
  {
   "cell_type": "code",
   "execution_count": 493,
   "metadata": {
    "scrolled": true
   },
   "outputs": [
    {
     "name": "stdout",
     "output_type": "stream",
     "text": [
      "accuracy: 0.7272727272727273\n",
      "default SVC accuracy on test data: 0.7272727272727273\n"
     ]
    }
   ],
   "source": [
    "default_SVC_accuracy = LinearSVC_performance(1.0, X_train, y_train, X_test, y_test)\n",
    "print('default SVC accuracy on test data:', default_SVC_accuracy)"
   ]
  },
  {
   "cell_type": "markdown",
   "metadata": {},
   "source": [
    "缺省参数（C = 1.0）的LinearSVC模型训练后，在测试集上的准确率为 0.7337662337662337，比训练集略低一点"
   ]
  },
  {
   "cell_type": "markdown",
   "metadata": {},
   "source": [
    "### 2.2 线性SVM正则参数调优"
   ]
  },
  {
   "cell_type": "code",
   "execution_count": 494,
   "metadata": {},
   "outputs": [
    {
     "data": {
      "text/plain": [
       "GridSearchCV(cv=5, error_score='raise',\n",
       "       estimator=LinearSVC(C=1.0, class_weight=None, dual=True, fit_intercept=True,\n",
       "     intercept_scaling=1, loss='squared_hinge', max_iter=1000,\n",
       "     multi_class='ovr', penalty='l2', random_state=None, tol=0.0001,\n",
       "     verbose=0),\n",
       "       fit_params=None, iid=True, n_jobs=1,\n",
       "       param_grid={'C': array([1.e-03, 1.e-02, 1.e-01, 1.e+00, 1.e+01, 1.e+02, 1.e+03])},\n",
       "       pre_dispatch='2*n_jobs', refit=True, return_train_score='warn',\n",
       "       scoring='accuracy', verbose=0)"
      ]
     },
     "execution_count": 494,
     "metadata": {},
     "output_type": "execute_result"
    }
   ],
   "source": [
    "from sklearn.model_selection import GridSearchCV\n",
    "#Cs = [0.001, 0.01, 0.1, 1, 10, 100, 1000]\n",
    "#penaltys = ['l1','l2']\n",
    "Cs = np.logspace(-3, 3, 7)\n",
    "tuned_parameters = dict(C = Cs)\n",
    "\n",
    "SVC3 = LinearSVC()\n",
    "grid= GridSearchCV(SVC3, tuned_parameters,cv=5, scoring='accuracy')\n",
    "grid.fit(X_train,y_train)"
   ]
  },
  {
   "cell_type": "code",
   "execution_count": 495,
   "metadata": {
    "scrolled": true
   },
   "outputs": [
    {
     "name": "stderr",
     "output_type": "stream",
     "text": [
      "C:\\ProgramData\\Anaconda3\\lib\\site-packages\\sklearn\\utils\\deprecation.py:122: FutureWarning: You are accessing a training score ('mean_train_score'), which will not be available by default any more in 0.21. If you need training scores, please set return_train_score=True\n",
      "  warnings.warn(*warn_args, **warn_kwargs)\n",
      "C:\\ProgramData\\Anaconda3\\lib\\site-packages\\sklearn\\utils\\deprecation.py:122: FutureWarning: You are accessing a training score ('split0_train_score'), which will not be available by default any more in 0.21. If you need training scores, please set return_train_score=True\n",
      "  warnings.warn(*warn_args, **warn_kwargs)\n",
      "C:\\ProgramData\\Anaconda3\\lib\\site-packages\\sklearn\\utils\\deprecation.py:122: FutureWarning: You are accessing a training score ('split1_train_score'), which will not be available by default any more in 0.21. If you need training scores, please set return_train_score=True\n",
      "  warnings.warn(*warn_args, **warn_kwargs)\n",
      "C:\\ProgramData\\Anaconda3\\lib\\site-packages\\sklearn\\utils\\deprecation.py:122: FutureWarning: You are accessing a training score ('split2_train_score'), which will not be available by default any more in 0.21. If you need training scores, please set return_train_score=True\n",
      "  warnings.warn(*warn_args, **warn_kwargs)\n",
      "C:\\ProgramData\\Anaconda3\\lib\\site-packages\\sklearn\\utils\\deprecation.py:122: FutureWarning: You are accessing a training score ('split3_train_score'), which will not be available by default any more in 0.21. If you need training scores, please set return_train_score=True\n",
      "  warnings.warn(*warn_args, **warn_kwargs)\n",
      "C:\\ProgramData\\Anaconda3\\lib\\site-packages\\sklearn\\utils\\deprecation.py:122: FutureWarning: You are accessing a training score ('split4_train_score'), which will not be available by default any more in 0.21. If you need training scores, please set return_train_score=True\n",
      "  warnings.warn(*warn_args, **warn_kwargs)\n",
      "C:\\ProgramData\\Anaconda3\\lib\\site-packages\\sklearn\\utils\\deprecation.py:122: FutureWarning: You are accessing a training score ('std_train_score'), which will not be available by default any more in 0.21. If you need training scores, please set return_train_score=True\n",
      "  warnings.warn(*warn_args, **warn_kwargs)\n"
     ]
    },
    {
     "data": {
      "text/plain": [
       "{'mean_fit_time': array([0.00140095, 0.00240083, 0.00680289, 0.03502355, 0.03522315,\n",
       "        0.03682427, 0.03742414]),\n",
       " 'mean_score_time': array([0.00060091, 0.00020046, 0.00040183, 0.        , 0.00080094,\n",
       "        0.00080075, 0.00060096]),\n",
       " 'mean_test_score': array([0.77687296, 0.77850163, 0.77687296, 0.7752443 , 0.7752443 ,\n",
       "        0.73127036, 0.66612378]),\n",
       " 'mean_train_score': array([0.77688189, 0.78257957, 0.78094361, 0.78053628, 0.78135426,\n",
       "        0.7573349 , 0.67552484]),\n",
       " 'param_C': masked_array(data=[0.001, 0.01, 0.1, 1.0, 10.0, 100.0, 1000.0],\n",
       "              mask=[False, False, False, False, False, False, False],\n",
       "        fill_value='?',\n",
       "             dtype=object),\n",
       " 'params': [{'C': 0.001},\n",
       "  {'C': 0.01},\n",
       "  {'C': 0.1},\n",
       "  {'C': 1.0},\n",
       "  {'C': 10.0},\n",
       "  {'C': 100.0},\n",
       "  {'C': 1000.0}],\n",
       " 'rank_test_score': array([2, 1, 2, 4, 4, 6, 7]),\n",
       " 'split0_test_score': array([0.79032258, 0.78225806, 0.78225806, 0.77419355, 0.77419355,\n",
       "        0.73387097, 0.74193548]),\n",
       " 'split0_train_score': array([0.78163265, 0.78163265, 0.77346939, 0.77346939, 0.77755102,\n",
       "        0.76530612, 0.71836735]),\n",
       " 'split1_test_score': array([0.74796748, 0.74796748, 0.74796748, 0.74796748, 0.74796748,\n",
       "        0.66666667, 0.69918699]),\n",
       " 'split1_train_score': array([0.78207739, 0.79022403, 0.79022403, 0.78615071, 0.79022403,\n",
       "        0.73523422, 0.69450102]),\n",
       " 'split2_test_score': array([0.76422764, 0.74796748, 0.74796748, 0.74796748, 0.74796748,\n",
       "        0.71544715, 0.62601626]),\n",
       " 'split2_train_score': array([0.78411405, 0.79226069, 0.78411405, 0.78615071, 0.78615071,\n",
       "        0.77800407, 0.6598778 ]),\n",
       " 'split3_test_score': array([0.79508197, 0.80327869, 0.79508197, 0.80327869, 0.79508197,\n",
       "        0.75409836, 0.63114754]),\n",
       " 'split3_train_score': array([0.7703252 , 0.77439024, 0.77642276, 0.77642276, 0.77439024,\n",
       "        0.7398374 , 0.61178862]),\n",
       " 'split4_test_score': array([0.78688525, 0.81147541, 0.81147541, 0.80327869, 0.81147541,\n",
       "        0.78688525, 0.63114754]),\n",
       " 'split4_train_score': array([0.76626016, 0.77439024, 0.7804878 , 0.7804878 , 0.77845528,\n",
       "        0.76829268, 0.69308943]),\n",
       " 'std_fit_time': array([0.00048969, 0.00048953, 0.00172218, 0.00063234, 0.0004019 ,\n",
       "        0.00074872, 0.00048994]),\n",
       " 'std_score_time': array([0.00049064, 0.00040092, 0.00049214, 0.        , 0.00040047,\n",
       "        0.00040038, 0.00049068]),\n",
       " 'std_test_score': array([0.01793718, 0.02672843, 0.02538502, 0.02471114, 0.02524559,\n",
       "        0.04007152, 0.04677714]),\n",
       " 'std_train_score': array([0.00717884, 0.00757877, 0.00587687, 0.00509722, 0.00588294,\n",
       "        0.01676563, 0.03690861])}"
      ]
     },
     "execution_count": 495,
     "metadata": {},
     "output_type": "execute_result"
    }
   ],
   "source": [
    "grid.cv_results_"
   ]
  },
  {
   "cell_type": "code",
   "execution_count": 496,
   "metadata": {},
   "outputs": [
    {
     "name": "stdout",
     "output_type": "stream",
     "text": [
      "0.7785016286644951\n",
      "{'C': 0.01}\n"
     ]
    }
   ],
   "source": [
    "# examine the best model\n",
    "print(grid.best_score_)\n",
    "print(grid.best_params_)"
   ]
  },
  {
   "cell_type": "code",
   "execution_count": 497,
   "metadata": {},
   "outputs": [
    {
     "name": "stdout",
     "output_type": "stream",
     "text": [
      "accuracy: 0.7272727272727273\n",
      "default SVC accuracy on test data: 0.7272727272727273\n"
     ]
    }
   ],
   "source": [
    "default_SVC_accuracy = LinearSVC_performance(1.0, X_train, y_train, X_test, y_test)\n",
    "print('default SVC accuracy on test data:', default_SVC_accuracy)"
   ]
  },
  {
   "cell_type": "markdown",
   "metadata": {},
   "source": [
    "发现最佳的参数 C 取值就是缺省参数 1.0，此时在训练集上得到的正确率是0.7817589576547231，和上面直接做缺省参数LinearSVC得到的准确率差不多  \n",
    "第一次 缺省参数LinearSVC 训练集上正确率：0.7818414569656008  测试集上正确率： 0.7337662337662337  \n",
    "第二次 参数调优LinearSVC 训练集上正确率：0.7817589576547231  测试集上正确率： 0.7337662337662337  \n",
    "\n",
    "疑惑：同一个训练集，同一个参数C=1.0，为什么在训练集上得到的准确率不同，第二次的参数调优得出的准确率还略低于第一次的  \n",
    "猜测：虽然是同一个训练集，但第一次直接用了5折交叉验证，第二次在gridcv中又重新用了一次5折交叉验证，两次交叉验证是独立的，并且都是随机的将训练集划分为5份，因为不是用的不是一模一样的划分，所以造成训练结果有略微的差别，但在测试集上由于参数相同，而且是直接fit的，所以得出结果一样"
   ]
  },
  {
   "cell_type": "markdown",
   "metadata": {},
   "source": [
    "### 2.3 RBF核SVM正则参数调优"
   ]
  },
  {
   "cell_type": "code",
   "execution_count": 498,
   "metadata": {},
   "outputs": [],
   "source": [
    "def LinearSVC_performance(C, gamma, X_train, y_train, X_test, y_test):\n",
    "    \n",
    "    # 在训练集是那个利用SVC训练\n",
    "    SVC4 =  SVC(C = C, kernel='rbf', gamma = gamma)\n",
    "    SVC4 = SVC4.fit(X_train, y_train)\n",
    "    \n",
    "    # 在校验集上返回accuracy\n",
    "    accuracy = SVC4.score(X_test, y_test)\n",
    "    \n",
    "    print(\"accuracy: {}\".format(accuracy))\n",
    "    return accuracy"
   ]
  },
  {
   "cell_type": "code",
   "execution_count": 499,
   "metadata": {},
   "outputs": [],
   "source": [
    "from sklearn.svm import SVC"
   ]
  },
  {
   "cell_type": "code",
   "execution_count": 500,
   "metadata": {},
   "outputs": [
    {
     "data": {
      "text/plain": [
       "GridSearchCV(cv=5, error_score='raise',\n",
       "       estimator=SVC(C=1.0, cache_size=200, class_weight=None, coef0=0.0,\n",
       "  decision_function_shape='ovr', degree=3, gamma='auto', kernel='rbf',\n",
       "  max_iter=-1, probability=False, random_state=None, shrinking=True,\n",
       "  tol=0.001, verbose=False),\n",
       "       fit_params=None, iid=True, n_jobs=1,\n",
       "       param_grid={'gamma': array([1.e-03, 1.e-02, 1.e-01, 1.e+00, 1.e+01, 1.e+02, 1.e+03]), 'C': array([1.e-03, 1.e-02, 1.e-01, 1.e+00, 1.e+01, 1.e+02, 1.e+03])},\n",
       "       pre_dispatch='2*n_jobs', refit=True, return_train_score='warn',\n",
       "       scoring='accuracy', verbose=0)"
      ]
     },
     "execution_count": 500,
     "metadata": {},
     "output_type": "execute_result"
    }
   ],
   "source": [
    "from sklearn.model_selection import GridSearchCV\n",
    "\n",
    "C_s = np.logspace(-3, 3, 7)\n",
    "gamma_s = np.logspace(-3, 3, 7) \n",
    "tuned_parameters = dict(gamma = gamma_s, C = C_s)\n",
    "\n",
    "SVC5 = SVC()\n",
    "grid= GridSearchCV(SVC5, tuned_parameters,cv=5, scoring='accuracy')\n",
    "grid.fit(X_train,y_train)"
   ]
  },
  {
   "cell_type": "code",
   "execution_count": 501,
   "metadata": {
    "scrolled": true
   },
   "outputs": [
    {
     "name": "stderr",
     "output_type": "stream",
     "text": [
      "C:\\ProgramData\\Anaconda3\\lib\\site-packages\\sklearn\\utils\\deprecation.py:122: FutureWarning: You are accessing a training score ('mean_train_score'), which will not be available by default any more in 0.21. If you need training scores, please set return_train_score=True\n",
      "  warnings.warn(*warn_args, **warn_kwargs)\n",
      "C:\\ProgramData\\Anaconda3\\lib\\site-packages\\sklearn\\utils\\deprecation.py:122: FutureWarning: You are accessing a training score ('split0_train_score'), which will not be available by default any more in 0.21. If you need training scores, please set return_train_score=True\n",
      "  warnings.warn(*warn_args, **warn_kwargs)\n",
      "C:\\ProgramData\\Anaconda3\\lib\\site-packages\\sklearn\\utils\\deprecation.py:122: FutureWarning: You are accessing a training score ('split1_train_score'), which will not be available by default any more in 0.21. If you need training scores, please set return_train_score=True\n",
      "  warnings.warn(*warn_args, **warn_kwargs)\n",
      "C:\\ProgramData\\Anaconda3\\lib\\site-packages\\sklearn\\utils\\deprecation.py:122: FutureWarning: You are accessing a training score ('split2_train_score'), which will not be available by default any more in 0.21. If you need training scores, please set return_train_score=True\n",
      "  warnings.warn(*warn_args, **warn_kwargs)\n",
      "C:\\ProgramData\\Anaconda3\\lib\\site-packages\\sklearn\\utils\\deprecation.py:122: FutureWarning: You are accessing a training score ('split3_train_score'), which will not be available by default any more in 0.21. If you need training scores, please set return_train_score=True\n",
      "  warnings.warn(*warn_args, **warn_kwargs)\n",
      "C:\\ProgramData\\Anaconda3\\lib\\site-packages\\sklearn\\utils\\deprecation.py:122: FutureWarning: You are accessing a training score ('split4_train_score'), which will not be available by default any more in 0.21. If you need training scores, please set return_train_score=True\n",
      "  warnings.warn(*warn_args, **warn_kwargs)\n",
      "C:\\ProgramData\\Anaconda3\\lib\\site-packages\\sklearn\\utils\\deprecation.py:122: FutureWarning: You are accessing a training score ('std_train_score'), which will not be available by default any more in 0.21. If you need training scores, please set return_train_score=True\n",
      "  warnings.warn(*warn_args, **warn_kwargs)\n"
     ]
    },
    {
     "data": {
      "text/plain": [
       "{'mean_fit_time': array([0.01160765, 0.00900545, 0.00900555, 0.008605  , 0.0108068 ,\n",
       "        0.02101483, 0.02281551, 0.00920563, 0.00920615, 0.00880718,\n",
       "        0.01060681, 0.01721072, 0.02221527, 0.02341447, 0.00900607,\n",
       "        0.00900569, 0.0088068 , 0.01100678, 0.0196126 , 0.02341561,\n",
       "        0.02461438, 0.00900478, 0.00800524, 0.00880499, 0.01380892,\n",
       "        0.02121468, 0.02441669, 0.02541647, 0.00820479, 0.00900631,\n",
       "        0.01220746, 0.01701059, 0.02721648, 0.03162007, 0.03402247,\n",
       "        0.00960569, 0.01560993, 0.0402266 , 0.0192122 , 0.03042006,\n",
       "        0.03142047, 0.02941885, 0.01400938, 0.06924548, 0.1168776 ,\n",
       "        0.01761208, 0.02701678, 0.02941861, 0.02941875]),\n",
       " 'mean_score_time': array([0.00260119, 0.00220184, 0.00200233, 0.00200162, 0.00200138,\n",
       "        0.00500236, 0.00560317, 0.00200133, 0.00200167, 0.00200133,\n",
       "        0.00240197, 0.0028019 , 0.00520263, 0.00620513, 0.00220141,\n",
       "        0.00200143, 0.00200114, 0.00240154, 0.00280151, 0.00540428,\n",
       "        0.00560365, 0.00200081, 0.00160122, 0.0016016 , 0.0024014 ,\n",
       "        0.00300193, 0.00500283, 0.00560479, 0.00140109, 0.00140147,\n",
       "        0.00180101, 0.00220137, 0.00300326, 0.00520296, 0.00760508,\n",
       "        0.00180192, 0.00200186, 0.00180187, 0.00280166, 0.00340247,\n",
       "        0.00560365, 0.00540261, 0.00140123, 0.00180182, 0.00140181,\n",
       "        0.00220089, 0.0028018 , 0.00500321, 0.00560389]),\n",
       " 'mean_test_score': array([0.65309446, 0.65309446, 0.65309446, 0.65309446, 0.65309446,\n",
       "        0.65309446, 0.65309446, 0.65309446, 0.65309446, 0.65309446,\n",
       "        0.65309446, 0.65309446, 0.65309446, 0.65309446, 0.65309446,\n",
       "        0.65309446, 0.76221498, 0.65309446, 0.65309446, 0.65309446,\n",
       "        0.65309446, 0.65635179, 0.77035831, 0.77035831, 0.72312704,\n",
       "        0.65309446, 0.65309446, 0.65309446, 0.77198697, 0.77687296,\n",
       "        0.75081433, 0.70846906, 0.65309446, 0.65309446, 0.65309446,\n",
       "        0.7752443 , 0.75570033, 0.71335505, 0.70684039, 0.65309446,\n",
       "        0.65309446, 0.65309446, 0.77687296, 0.75732899, 0.66612378,\n",
       "        0.70684039, 0.65309446, 0.65309446, 0.65309446]),\n",
       " 'mean_train_score': array([0.65309498, 0.65309498, 0.65309498, 0.65309498, 0.65309498,\n",
       "        0.65309498, 0.65309498, 0.65309498, 0.65309498, 0.65309498,\n",
       "        0.65309498, 0.65309498, 0.65309498, 0.65309498, 0.65309498,\n",
       "        0.65309498, 0.78827395, 0.65309498, 0.65309498, 0.65309498,\n",
       "        0.65309498, 0.65554064, 0.78339508, 0.82369366, 0.95236942,\n",
       "        1.        , 1.        , 1.        , 0.7768794 , 0.79276124,\n",
       "        0.86604055, 0.99918616, 1.        , 1.        , 1.        ,\n",
       "        0.77931925, 0.81880733, 0.92346123, 1.        , 1.        ,\n",
       "        1.        , 1.        , 0.79316526, 0.84038934, 0.9759798 ,\n",
       "        1.        , 1.        , 1.        , 1.        ]),\n",
       " 'param_C': masked_array(data=[0.001, 0.001, 0.001, 0.001, 0.001, 0.001, 0.001, 0.01,\n",
       "                    0.01, 0.01, 0.01, 0.01, 0.01, 0.01, 0.1, 0.1, 0.1, 0.1,\n",
       "                    0.1, 0.1, 0.1, 1.0, 1.0, 1.0, 1.0, 1.0, 1.0, 1.0, 10.0,\n",
       "                    10.0, 10.0, 10.0, 10.0, 10.0, 10.0, 100.0, 100.0,\n",
       "                    100.0, 100.0, 100.0, 100.0, 100.0, 1000.0, 1000.0,\n",
       "                    1000.0, 1000.0, 1000.0, 1000.0, 1000.0],\n",
       "              mask=[False, False, False, False, False, False, False, False,\n",
       "                    False, False, False, False, False, False, False, False,\n",
       "                    False, False, False, False, False, False, False, False,\n",
       "                    False, False, False, False, False, False, False, False,\n",
       "                    False, False, False, False, False, False, False, False,\n",
       "                    False, False, False, False, False, False, False, False,\n",
       "                    False],\n",
       "        fill_value='?',\n",
       "             dtype=object),\n",
       " 'param_gamma': masked_array(data=[0.001, 0.01, 0.1, 1.0, 10.0, 100.0, 1000.0, 0.001,\n",
       "                    0.01, 0.1, 1.0, 10.0, 100.0, 1000.0, 0.001, 0.01, 0.1,\n",
       "                    1.0, 10.0, 100.0, 1000.0, 0.001, 0.01, 0.1, 1.0, 10.0,\n",
       "                    100.0, 1000.0, 0.001, 0.01, 0.1, 1.0, 10.0, 100.0,\n",
       "                    1000.0, 0.001, 0.01, 0.1, 1.0, 10.0, 100.0, 1000.0,\n",
       "                    0.001, 0.01, 0.1, 1.0, 10.0, 100.0, 1000.0],\n",
       "              mask=[False, False, False, False, False, False, False, False,\n",
       "                    False, False, False, False, False, False, False, False,\n",
       "                    False, False, False, False, False, False, False, False,\n",
       "                    False, False, False, False, False, False, False, False,\n",
       "                    False, False, False, False, False, False, False, False,\n",
       "                    False, False, False, False, False, False, False, False,\n",
       "                    False],\n",
       "        fill_value='?',\n",
       "             dtype=object),\n",
       " 'params': [{'C': 0.001, 'gamma': 0.001},\n",
       "  {'C': 0.001, 'gamma': 0.01},\n",
       "  {'C': 0.001, 'gamma': 0.1},\n",
       "  {'C': 0.001, 'gamma': 1.0},\n",
       "  {'C': 0.001, 'gamma': 10.0},\n",
       "  {'C': 0.001, 'gamma': 100.0},\n",
       "  {'C': 0.001, 'gamma': 1000.0},\n",
       "  {'C': 0.01, 'gamma': 0.001},\n",
       "  {'C': 0.01, 'gamma': 0.01},\n",
       "  {'C': 0.01, 'gamma': 0.1},\n",
       "  {'C': 0.01, 'gamma': 1.0},\n",
       "  {'C': 0.01, 'gamma': 10.0},\n",
       "  {'C': 0.01, 'gamma': 100.0},\n",
       "  {'C': 0.01, 'gamma': 1000.0},\n",
       "  {'C': 0.1, 'gamma': 0.001},\n",
       "  {'C': 0.1, 'gamma': 0.01},\n",
       "  {'C': 0.1, 'gamma': 0.1},\n",
       "  {'C': 0.1, 'gamma': 1.0},\n",
       "  {'C': 0.1, 'gamma': 10.0},\n",
       "  {'C': 0.1, 'gamma': 100.0},\n",
       "  {'C': 0.1, 'gamma': 1000.0},\n",
       "  {'C': 1.0, 'gamma': 0.001},\n",
       "  {'C': 1.0, 'gamma': 0.01},\n",
       "  {'C': 1.0, 'gamma': 0.1},\n",
       "  {'C': 1.0, 'gamma': 1.0},\n",
       "  {'C': 1.0, 'gamma': 10.0},\n",
       "  {'C': 1.0, 'gamma': 100.0},\n",
       "  {'C': 1.0, 'gamma': 1000.0},\n",
       "  {'C': 10.0, 'gamma': 0.001},\n",
       "  {'C': 10.0, 'gamma': 0.01},\n",
       "  {'C': 10.0, 'gamma': 0.1},\n",
       "  {'C': 10.0, 'gamma': 1.0},\n",
       "  {'C': 10.0, 'gamma': 10.0},\n",
       "  {'C': 10.0, 'gamma': 100.0},\n",
       "  {'C': 10.0, 'gamma': 1000.0},\n",
       "  {'C': 100.0, 'gamma': 0.001},\n",
       "  {'C': 100.0, 'gamma': 0.01},\n",
       "  {'C': 100.0, 'gamma': 0.1},\n",
       "  {'C': 100.0, 'gamma': 1.0},\n",
       "  {'C': 100.0, 'gamma': 10.0},\n",
       "  {'C': 100.0, 'gamma': 100.0},\n",
       "  {'C': 100.0, 'gamma': 1000.0},\n",
       "  {'C': 1000.0, 'gamma': 0.001},\n",
       "  {'C': 1000.0, 'gamma': 0.01},\n",
       "  {'C': 1000.0, 'gamma': 0.1},\n",
       "  {'C': 1000.0, 'gamma': 1.0},\n",
       "  {'C': 1000.0, 'gamma': 10.0},\n",
       "  {'C': 1000.0, 'gamma': 100.0},\n",
       "  {'C': 1000.0, 'gamma': 1000.0}],\n",
       " 'rank_test_score': array([18, 18, 18, 18, 18, 18, 18, 18, 18, 18, 18, 18, 18, 18, 18, 18,  7,\n",
       "        18, 18, 18, 18, 17,  5,  5, 11, 18, 18, 18,  4,  1, 10, 13, 18, 18,\n",
       "        18,  3,  9, 12, 14, 18, 18, 18,  1,  8, 16, 14, 18, 18, 18]),\n",
       " 'split0_test_score': array([0.65322581, 0.65322581, 0.65322581, 0.65322581, 0.65322581,\n",
       "        0.65322581, 0.65322581, 0.65322581, 0.65322581, 0.65322581,\n",
       "        0.65322581, 0.65322581, 0.65322581, 0.65322581, 0.65322581,\n",
       "        0.65322581, 0.75      , 0.65322581, 0.65322581, 0.65322581,\n",
       "        0.65322581, 0.65322581, 0.76612903, 0.79032258, 0.72580645,\n",
       "        0.65322581, 0.65322581, 0.65322581, 0.76612903, 0.75806452,\n",
       "        0.75      , 0.68548387, 0.65322581, 0.65322581, 0.65322581,\n",
       "        0.78225806, 0.75      , 0.75      , 0.67741935, 0.65322581,\n",
       "        0.65322581, 0.65322581, 0.76612903, 0.75      , 0.60483871,\n",
       "        0.67741935, 0.65322581, 0.65322581, 0.65322581]),\n",
       " 'split0_train_score': array([0.65306122, 0.65306122, 0.65306122, 0.65306122, 0.65306122,\n",
       "        0.65306122, 0.65306122, 0.65306122, 0.65306122, 0.65306122,\n",
       "        0.65306122, 0.65306122, 0.65306122, 0.65306122, 0.65306122,\n",
       "        0.65306122, 0.78571429, 0.65306122, 0.65306122, 0.65306122,\n",
       "        0.65306122, 0.65918367, 0.7877551 , 0.81428571, 0.96326531,\n",
       "        1.        , 1.        , 1.        , 0.77755102, 0.79795918,\n",
       "        0.86938776, 1.        , 1.        , 1.        , 1.        ,\n",
       "        0.77346939, 0.8122449 , 0.93877551, 1.        , 1.        ,\n",
       "        1.        , 1.        , 0.79591837, 0.83469388, 0.97959184,\n",
       "        1.        , 1.        , 1.        , 1.        ]),\n",
       " 'split1_test_score': array([0.6504065 , 0.6504065 , 0.6504065 , 0.6504065 , 0.6504065 ,\n",
       "        0.6504065 , 0.6504065 , 0.6504065 , 0.6504065 , 0.6504065 ,\n",
       "        0.6504065 , 0.6504065 , 0.6504065 , 0.6504065 , 0.6504065 ,\n",
       "        0.6504065 , 0.74796748, 0.6504065 , 0.6504065 , 0.6504065 ,\n",
       "        0.6504065 , 0.65853659, 0.75609756, 0.76422764, 0.72357724,\n",
       "        0.6504065 , 0.6504065 , 0.6504065 , 0.74796748, 0.75609756,\n",
       "        0.72357724, 0.73170732, 0.6504065 , 0.6504065 , 0.6504065 ,\n",
       "        0.74796748, 0.7398374 , 0.68292683, 0.74796748, 0.6504065 ,\n",
       "        0.6504065 , 0.6504065 , 0.76422764, 0.7398374 , 0.68292683,\n",
       "        0.74796748, 0.6504065 , 0.6504065 , 0.6504065 ]),\n",
       " 'split1_train_score': array([0.65376782, 0.65376782, 0.65376782, 0.65376782, 0.65376782,\n",
       "        0.65376782, 0.65376782, 0.65376782, 0.65376782, 0.65376782,\n",
       "        0.65376782, 0.65376782, 0.65376782, 0.65376782, 0.65376782,\n",
       "        0.65376782, 0.79429735, 0.65376782, 0.65376782, 0.65376782,\n",
       "        0.65376782, 0.65376782, 0.79022403, 0.82484725, 0.95112016,\n",
       "        1.        , 1.        , 1.        , 0.78615071, 0.80244399,\n",
       "        0.86354379, 0.99796334, 1.        , 1.        , 1.        ,\n",
       "        0.79429735, 0.82077393, 0.9185336 , 1.        , 1.        ,\n",
       "        1.        , 1.        , 0.79837067, 0.85336049, 0.97556008,\n",
       "        1.        , 1.        , 1.        , 1.        ]),\n",
       " 'split2_test_score': array([0.6504065 , 0.6504065 , 0.6504065 , 0.6504065 , 0.6504065 ,\n",
       "        0.6504065 , 0.6504065 , 0.6504065 , 0.6504065 , 0.6504065 ,\n",
       "        0.6504065 , 0.6504065 , 0.6504065 , 0.6504065 , 0.6504065 ,\n",
       "        0.6504065 , 0.7398374 , 0.6504065 , 0.6504065 , 0.6504065 ,\n",
       "        0.6504065 , 0.6504065 , 0.72357724, 0.74796748, 0.69105691,\n",
       "        0.6504065 , 0.6504065 , 0.6504065 , 0.7398374 , 0.74796748,\n",
       "        0.73170732, 0.70731707, 0.6504065 , 0.6504065 , 0.6504065 ,\n",
       "        0.73170732, 0.73170732, 0.66666667, 0.70731707, 0.6504065 ,\n",
       "        0.6504065 , 0.6504065 , 0.7398374 , 0.71544715, 0.68292683,\n",
       "        0.70731707, 0.6504065 , 0.6504065 , 0.6504065 ]),\n",
       " 'split2_train_score': array([0.65376782, 0.65376782, 0.65376782, 0.65376782, 0.65376782,\n",
       "        0.65376782, 0.65376782, 0.65376782, 0.65376782, 0.65376782,\n",
       "        0.65376782, 0.65376782, 0.65376782, 0.65376782, 0.65376782,\n",
       "        0.65376782, 0.78818737, 0.65376782, 0.65376782, 0.65376782,\n",
       "        0.65376782, 0.65784114, 0.78615071, 0.83299389, 0.95112016,\n",
       "        1.        , 1.        , 1.        , 0.78207739, 0.79429735,\n",
       "        0.85743381, 1.        , 1.        , 1.        , 1.        ,\n",
       "        0.78411405, 0.82077393, 0.9185336 , 1.        , 1.        ,\n",
       "        1.        , 1.        , 0.79633401, 0.83503055, 0.97556008,\n",
       "        1.        , 1.        , 1.        , 1.        ]),\n",
       " 'split3_test_score': array([0.6557377 , 0.6557377 , 0.6557377 , 0.6557377 , 0.6557377 ,\n",
       "        0.6557377 , 0.6557377 , 0.6557377 , 0.6557377 , 0.6557377 ,\n",
       "        0.6557377 , 0.6557377 , 0.6557377 , 0.6557377 , 0.6557377 ,\n",
       "        0.6557377 , 0.77868852, 0.6557377 , 0.6557377 , 0.6557377 ,\n",
       "        0.6557377 , 0.6557377 , 0.79508197, 0.79508197, 0.74590164,\n",
       "        0.6557377 , 0.6557377 , 0.6557377 , 0.80327869, 0.80327869,\n",
       "        0.80327869, 0.68032787, 0.6557377 , 0.6557377 , 0.6557377 ,\n",
       "        0.80327869, 0.79508197, 0.7704918 , 0.67213115, 0.6557377 ,\n",
       "        0.6557377 , 0.6557377 , 0.81147541, 0.81147541, 0.66393443,\n",
       "        0.67213115, 0.6557377 , 0.6557377 , 0.6557377 ]),\n",
       " 'split3_train_score': array([0.65243902, 0.65243902, 0.65243902, 0.65243902, 0.65243902,\n",
       "        0.65243902, 0.65243902, 0.65243902, 0.65243902, 0.65243902,\n",
       "        0.65243902, 0.65243902, 0.65243902, 0.65243902, 0.65243902,\n",
       "        0.65243902, 0.78455285, 0.65243902, 0.65243902, 0.65243902,\n",
       "        0.65243902, 0.65243902, 0.7804878 , 0.81910569, 0.94512195,\n",
       "        1.        , 1.        , 1.        , 0.7703252 , 0.77845528,\n",
       "        0.86178862, 0.99796748, 1.        , 1.        , 1.        ,\n",
       "        0.7703252 , 0.81097561, 0.92073171, 1.        , 1.        ,\n",
       "        1.        , 1.        , 0.78252033, 0.83536585, 0.97154472,\n",
       "        1.        , 1.        , 1.        , 1.        ]),\n",
       " 'split4_test_score': array([0.6557377 , 0.6557377 , 0.6557377 , 0.6557377 , 0.6557377 ,\n",
       "        0.6557377 , 0.6557377 , 0.6557377 , 0.6557377 , 0.6557377 ,\n",
       "        0.6557377 , 0.6557377 , 0.6557377 , 0.6557377 , 0.6557377 ,\n",
       "        0.6557377 , 0.79508197, 0.6557377 , 0.6557377 , 0.6557377 ,\n",
       "        0.6557377 , 0.66393443, 0.81147541, 0.75409836, 0.7295082 ,\n",
       "        0.6557377 , 0.6557377 , 0.6557377 , 0.80327869, 0.81967213,\n",
       "        0.74590164, 0.73770492, 0.6557377 , 0.6557377 , 0.6557377 ,\n",
       "        0.81147541, 0.76229508, 0.69672131, 0.7295082 , 0.6557377 ,\n",
       "        0.6557377 , 0.6557377 , 0.80327869, 0.7704918 , 0.69672131,\n",
       "        0.7295082 , 0.6557377 , 0.6557377 , 0.6557377 ]),\n",
       " 'split4_train_score': array([0.65243902, 0.65243902, 0.65243902, 0.65243902, 0.65243902,\n",
       "        0.65243902, 0.65243902, 0.65243902, 0.65243902, 0.65243902,\n",
       "        0.65243902, 0.65243902, 0.65243902, 0.65243902, 0.65243902,\n",
       "        0.65243902, 0.78861789, 0.65243902, 0.65243902, 0.65243902,\n",
       "        0.65243902, 0.65447154, 0.77235772, 0.82723577, 0.95121951,\n",
       "        1.        , 1.        , 1.        , 0.76829268, 0.79065041,\n",
       "        0.87804878, 1.        , 1.        , 1.        , 1.        ,\n",
       "        0.77439024, 0.82926829, 0.92073171, 1.        , 1.        ,\n",
       "        1.        , 1.        , 0.79268293, 0.84349593, 0.97764228,\n",
       "        1.        , 1.        , 1.        , 1.        ]),\n",
       " 'std_fit_time': array([1.62648602e-03, 7.16843432e-07, 7.23159356e-07, 4.89979613e-04,\n",
       "        7.48774764e-04, 6.32108502e-04, 4.00449918e-04, 3.99684934e-04,\n",
       "        3.98353672e-04, 4.01379615e-04, 4.89531751e-04, 4.01498898e-04,\n",
       "        4.01665602e-04, 4.90389650e-04, 6.10649513e-07, 6.50319180e-07,\n",
       "        4.01307427e-04, 1.17189462e-06, 4.89533191e-04, 4.90427108e-04,\n",
       "        4.89825163e-04, 1.36878015e-06, 9.48893964e-07, 4.00162453e-04,\n",
       "        3.99566248e-04, 9.80700231e-04, 7.99716277e-04, 8.01098497e-04,\n",
       "        4.00615175e-04, 2.12927948e-06, 4.00210123e-04, 2.46206868e-06,\n",
       "        1.16699003e-03, 3.20135684e-03, 2.00204968e-03, 7.99860391e-04,\n",
       "        1.85538127e-03, 2.78770461e-03, 1.16704633e-03, 3.13862944e-03,\n",
       "        3.13853822e-03, 1.02019777e-03, 2.27986013e-06, 6.43593690e-03,\n",
       "        8.03933860e-03, 4.89669963e-04, 1.09654185e-03, 8.01194368e-04,\n",
       "        1.02042220e-03]),\n",
       " 'std_score_time': array([4.90993260e-04, 4.00877127e-04, 1.41934167e-06, 1.10395783e-06,\n",
       "        2.43140197e-07, 1.39510525e-06, 4.89377690e-04, 7.74768677e-07,\n",
       "        1.90734863e-07, 6.97552626e-07, 4.90836159e-04, 4.00543326e-04,\n",
       "        4.00022600e-04, 9.80922433e-04, 4.00495572e-04, 3.56832255e-07,\n",
       "        2.86102295e-07, 4.90212890e-04, 4.00710996e-04, 4.91208225e-04,\n",
       "        4.90446700e-04, 1.46195504e-06, 4.89979288e-04, 4.90485409e-04,\n",
       "        4.90329691e-04, 5.84003864e-07, 6.14361702e-07, 4.91381036e-04,\n",
       "        4.90154611e-04, 4.90135123e-04, 4.00071690e-04, 4.00400290e-04,\n",
       "        1.14440918e-06, 4.00567321e-04, 1.49735777e-03, 4.00400573e-04,\n",
       "        6.32409775e-04, 4.00018763e-04, 7.49411665e-04, 8.01384833e-04,\n",
       "        8.00479102e-04, 4.89551863e-04, 4.90135123e-04, 4.00352677e-04,\n",
       "        4.90447187e-04, 4.00042743e-04, 4.00495600e-04, 1.50789149e-07,\n",
       "        4.90446607e-04]),\n",
       " 'std_test_score': array([0.00238217, 0.00238217, 0.00238217, 0.00238217, 0.00238217,\n",
       "        0.00238217, 0.00238217, 0.00238217, 0.00238217, 0.00238217,\n",
       "        0.00238217, 0.00238217, 0.00238217, 0.00238217, 0.00238217,\n",
       "        0.00238217, 0.0209684 , 0.00238217, 0.00238217, 0.00238217,\n",
       "        0.00238217, 0.00463786, 0.03066162, 0.01903796, 0.01785149,\n",
       "        0.00238217, 0.00238217, 0.00238217, 0.02680817, 0.02877144,\n",
       "        0.02781354, 0.02328794, 0.00238217, 0.00238217, 0.00238217,\n",
       "        0.03091412, 0.02211548, 0.03996232, 0.02924326, 0.00238217,\n",
       "        0.00238217, 0.00238217, 0.02658135, 0.03225679, 0.03253625,\n",
       "        0.02924326, 0.00238217, 0.00238217, 0.00238217]),\n",
       " 'std_train_score': array([0.0005945 , 0.0005945 , 0.0005945 , 0.0005945 , 0.0005945 ,\n",
       "        0.0005945 , 0.0005945 , 0.0005945 , 0.0005945 , 0.0005945 ,\n",
       "        0.0005945 , 0.0005945 , 0.0005945 , 0.0005945 , 0.0005945 ,\n",
       "        0.0005945 , 0.00337063, 0.0005945 , 0.0005945 , 0.0005945 ,\n",
       "        0.0005945 , 0.00254833, 0.00637986, 0.00647967, 0.00592773,\n",
       "        0.        , 0.        , 0.        , 0.00678405, 0.00815169,\n",
       "        0.00712447, 0.00099674, 0.        , 0.        , 0.        ,\n",
       "        0.0087948 , 0.00665685, 0.00771998, 0.        , 0.        ,\n",
       "        0.        , 0.        , 0.00562609, 0.00727038, 0.00267705,\n",
       "        0.        , 0.        , 0.        , 0.        ])}"
      ]
     },
     "execution_count": 501,
     "metadata": {},
     "output_type": "execute_result"
    }
   ],
   "source": [
    "# view the complete results (list of named tuples)\n",
    "grid.cv_results_"
   ]
  },
  {
   "cell_type": "code",
   "execution_count": 502,
   "metadata": {},
   "outputs": [
    {
     "name": "stdout",
     "output_type": "stream",
     "text": [
      "0.7768729641693811\n",
      "{'C': 10.0, 'gamma': 0.01}\n"
     ]
    }
   ],
   "source": [
    "# examine the best model\n",
    "print(grid.best_score_)\n",
    "print(grid.best_params_)"
   ]
  },
  {
   "cell_type": "markdown",
   "metadata": {},
   "source": [
    "0.7768729641693811\n",
    "{'C': 1.0, 'gamma': 0.1}"
   ]
  },
  {
   "cell_type": "code",
   "execution_count": 503,
   "metadata": {},
   "outputs": [
    {
     "data": {
      "text/plain": [
       "GridSearchCV(cv=5, error_score='raise',\n",
       "       estimator=SVC(C=1.0, cache_size=200, class_weight=None, coef0=0.0,\n",
       "  decision_function_shape='ovr', degree=3, gamma='auto', kernel='rbf',\n",
       "  max_iter=-1, probability=False, random_state=None, shrinking=True,\n",
       "  tol=0.001, verbose=False),\n",
       "       fit_params=None, iid=True, n_jobs=1,\n",
       "       param_grid={'gamma': array([1.e-06, 1.e-05, 1.e-04, 1.e-03, 1.e-02, 1.e-01, 1.e+00, 1.e+01,\n",
       "       1.e+02, 1.e+03, 1.e+04, 1.e+05, 1.e+06]), 'C': array([1.e-02, 1.e-01, 1.e+00, 1.e+01, 1.e+02])},\n",
       "       pre_dispatch='2*n_jobs', refit=True, return_train_score='warn',\n",
       "       scoring='accuracy', verbose=0)"
      ]
     },
     "execution_count": 503,
     "metadata": {},
     "output_type": "execute_result"
    }
   ],
   "source": [
    "from sklearn.model_selection import GridSearchCV\n",
    "\n",
    "C_s = np.logspace(-2, 2, 5)\n",
    "gamma_s = np.logspace(-6, 6, 13) \n",
    "tuned_parameters = dict(gamma = gamma_s, C = C_s)\n",
    "\n",
    "SVC5 = SVC()\n",
    "grid= GridSearchCV(SVC5, tuned_parameters,cv=5, scoring='accuracy')\n",
    "grid.fit(X_train,y_train)"
   ]
  },
  {
   "cell_type": "code",
   "execution_count": 504,
   "metadata": {},
   "outputs": [
    {
     "name": "stderr",
     "output_type": "stream",
     "text": [
      "C:\\ProgramData\\Anaconda3\\lib\\site-packages\\sklearn\\utils\\deprecation.py:122: FutureWarning: You are accessing a training score ('mean_train_score'), which will not be available by default any more in 0.21. If you need training scores, please set return_train_score=True\n",
      "  warnings.warn(*warn_args, **warn_kwargs)\n",
      "C:\\ProgramData\\Anaconda3\\lib\\site-packages\\sklearn\\utils\\deprecation.py:122: FutureWarning: You are accessing a training score ('split0_train_score'), which will not be available by default any more in 0.21. If you need training scores, please set return_train_score=True\n",
      "  warnings.warn(*warn_args, **warn_kwargs)\n",
      "C:\\ProgramData\\Anaconda3\\lib\\site-packages\\sklearn\\utils\\deprecation.py:122: FutureWarning: You are accessing a training score ('split1_train_score'), which will not be available by default any more in 0.21. If you need training scores, please set return_train_score=True\n",
      "  warnings.warn(*warn_args, **warn_kwargs)\n",
      "C:\\ProgramData\\Anaconda3\\lib\\site-packages\\sklearn\\utils\\deprecation.py:122: FutureWarning: You are accessing a training score ('split2_train_score'), which will not be available by default any more in 0.21. If you need training scores, please set return_train_score=True\n",
      "  warnings.warn(*warn_args, **warn_kwargs)\n",
      "C:\\ProgramData\\Anaconda3\\lib\\site-packages\\sklearn\\utils\\deprecation.py:122: FutureWarning: You are accessing a training score ('split3_train_score'), which will not be available by default any more in 0.21. If you need training scores, please set return_train_score=True\n",
      "  warnings.warn(*warn_args, **warn_kwargs)\n",
      "C:\\ProgramData\\Anaconda3\\lib\\site-packages\\sklearn\\utils\\deprecation.py:122: FutureWarning: You are accessing a training score ('split4_train_score'), which will not be available by default any more in 0.21. If you need training scores, please set return_train_score=True\n",
      "  warnings.warn(*warn_args, **warn_kwargs)\n",
      "C:\\ProgramData\\Anaconda3\\lib\\site-packages\\sklearn\\utils\\deprecation.py:122: FutureWarning: You are accessing a training score ('std_train_score'), which will not be available by default any more in 0.21. If you need training scores, please set return_train_score=True\n",
      "  warnings.warn(*warn_args, **warn_kwargs)\n"
     ]
    },
    {
     "data": {
      "text/plain": [
       "{'mean_fit_time': array([0.01180801, 0.01080713, 0.00880594, 0.00840492, 0.00880456,\n",
       "        0.00900526, 0.01100745, 0.0172102 , 0.02241359, 0.02381558,\n",
       "        0.0238173 , 0.02341456, 0.02341542, 0.00900507, 0.00860548,\n",
       "        0.00900602, 0.00860486, 0.00900588, 0.00840526, 0.01120777,\n",
       "        0.01981339, 0.02361541, 0.02461572, 0.02461638, 0.02441545,\n",
       "        0.02481532, 0.00860558, 0.00880594, 0.00900512, 0.00920649,\n",
       "        0.00800533, 0.00880551, 0.01360841, 0.02061396, 0.02421455,\n",
       "        0.02581649, 0.02541728, 0.02581706, 0.02541747, 0.00880613,\n",
       "        0.00900621, 0.00940604, 0.00820546, 0.00880556, 0.01180725,\n",
       "        0.01661162, 0.02721882, 0.02841725, 0.0300209 , 0.02941856,\n",
       "        0.0296196 , 0.02961826, 0.00920568, 0.00920634, 0.00800548,\n",
       "        0.00900502, 0.01340799, 0.03482251, 0.01701055, 0.02701688,\n",
       "        0.02861896, 0.02961998, 0.02941918, 0.02942019, 0.030019  ]),\n",
       " 'mean_score_time': array([0.00240092, 0.00260153, 0.00200152, 0.0022018 , 0.00200133,\n",
       "        0.00200129, 0.0020009 , 0.00280232, 0.0052042 , 0.00560384,\n",
       "        0.00520363, 0.0056035 , 0.00580335, 0.00200157, 0.00200157,\n",
       "        0.00180154, 0.00240226, 0.00200133, 0.00220094, 0.00220151,\n",
       "        0.00300274, 0.00500255, 0.00540333, 0.00560398, 0.00560389,\n",
       "        0.00540442, 0.00220222, 0.00200219, 0.00200143, 0.002001  ,\n",
       "        0.00160117, 0.00180192, 0.00260224, 0.00300241, 0.0050035 ,\n",
       "        0.0056036 , 0.00540299, 0.00540328, 0.00520334, 0.00200071,\n",
       "        0.00200129, 0.00220208, 0.0018012 , 0.00180159, 0.00200176,\n",
       "        0.00260215, 0.00300169, 0.00520358, 0.00520205, 0.00620394,\n",
       "        0.00520339, 0.00580463, 0.00200138, 0.00180087, 0.00180106,\n",
       "        0.00120139, 0.00160141, 0.00160141, 0.00240135, 0.00280123,\n",
       "        0.00520358, 0.00540385, 0.0054029 , 0.00560441, 0.00560384]),\n",
       " 'mean_test_score': array([0.65309446, 0.65309446, 0.65309446, 0.65309446, 0.65309446,\n",
       "        0.65309446, 0.65309446, 0.65309446, 0.65309446, 0.65309446,\n",
       "        0.65309446, 0.65309446, 0.65309446, 0.65309446, 0.65309446,\n",
       "        0.65309446, 0.65309446, 0.65309446, 0.76221498, 0.65309446,\n",
       "        0.65309446, 0.65309446, 0.65309446, 0.65309446, 0.65309446,\n",
       "        0.65309446, 0.65309446, 0.65309446, 0.65309446, 0.65635179,\n",
       "        0.77035831, 0.77035831, 0.72312704, 0.65309446, 0.65309446,\n",
       "        0.65309446, 0.65309446, 0.65309446, 0.65309446, 0.65309446,\n",
       "        0.65309446, 0.65635179, 0.77198697, 0.77687296, 0.75081433,\n",
       "        0.70846906, 0.65309446, 0.65309446, 0.65309446, 0.65309446,\n",
       "        0.65309446, 0.65309446, 0.65309446, 0.65635179, 0.77198697,\n",
       "        0.7752443 , 0.75570033, 0.71335505, 0.70684039, 0.65309446,\n",
       "        0.65309446, 0.65309446, 0.65309446, 0.65309446, 0.65309446]),\n",
       " 'mean_train_score': array([0.65309498, 0.65309498, 0.65309498, 0.65309498, 0.65309498,\n",
       "        0.65309498, 0.65309498, 0.65309498, 0.65309498, 0.65309498,\n",
       "        0.65309498, 0.65309498, 0.65309498, 0.65309498, 0.65309498,\n",
       "        0.65309498, 0.65309498, 0.65309498, 0.78827395, 0.65309498,\n",
       "        0.65309498, 0.65309498, 0.65309498, 0.65309498, 0.65309498,\n",
       "        0.65309498, 0.65309498, 0.65309498, 0.65309498, 0.65554064,\n",
       "        0.78339508, 0.82369366, 0.95236942, 1.        , 1.        ,\n",
       "        1.        , 1.        , 1.        , 1.        , 0.65309498,\n",
       "        0.65309498, 0.65635614, 0.7768794 , 0.79276124, 0.86604055,\n",
       "        0.99918616, 1.        , 1.        , 1.        , 1.        ,\n",
       "        1.        , 1.        , 0.65309498, 0.65635614, 0.7752509 ,\n",
       "        0.77931925, 0.81880733, 0.92346123, 1.        , 1.        ,\n",
       "        1.        , 1.        , 1.        , 1.        , 1.        ]),\n",
       " 'param_C': masked_array(data=[0.01, 0.01, 0.01, 0.01, 0.01, 0.01, 0.01, 0.01, 0.01,\n",
       "                    0.01, 0.01, 0.01, 0.01, 0.1, 0.1, 0.1, 0.1, 0.1, 0.1,\n",
       "                    0.1, 0.1, 0.1, 0.1, 0.1, 0.1, 0.1, 1.0, 1.0, 1.0, 1.0,\n",
       "                    1.0, 1.0, 1.0, 1.0, 1.0, 1.0, 1.0, 1.0, 1.0, 10.0,\n",
       "                    10.0, 10.0, 10.0, 10.0, 10.0, 10.0, 10.0, 10.0, 10.0,\n",
       "                    10.0, 10.0, 10.0, 100.0, 100.0, 100.0, 100.0, 100.0,\n",
       "                    100.0, 100.0, 100.0, 100.0, 100.0, 100.0, 100.0, 100.0],\n",
       "              mask=[False, False, False, False, False, False, False, False,\n",
       "                    False, False, False, False, False, False, False, False,\n",
       "                    False, False, False, False, False, False, False, False,\n",
       "                    False, False, False, False, False, False, False, False,\n",
       "                    False, False, False, False, False, False, False, False,\n",
       "                    False, False, False, False, False, False, False, False,\n",
       "                    False, False, False, False, False, False, False, False,\n",
       "                    False, False, False, False, False, False, False, False,\n",
       "                    False],\n",
       "        fill_value='?',\n",
       "             dtype=object),\n",
       " 'param_gamma': masked_array(data=[1e-06, 1e-05, 0.0001, 0.001, 0.01, 0.1, 1.0, 10.0,\n",
       "                    100.0, 1000.0, 10000.0, 100000.0, 1000000.0, 1e-06,\n",
       "                    1e-05, 0.0001, 0.001, 0.01, 0.1, 1.0, 10.0, 100.0,\n",
       "                    1000.0, 10000.0, 100000.0, 1000000.0, 1e-06, 1e-05,\n",
       "                    0.0001, 0.001, 0.01, 0.1, 1.0, 10.0, 100.0, 1000.0,\n",
       "                    10000.0, 100000.0, 1000000.0, 1e-06, 1e-05, 0.0001,\n",
       "                    0.001, 0.01, 0.1, 1.0, 10.0, 100.0, 1000.0, 10000.0,\n",
       "                    100000.0, 1000000.0, 1e-06, 1e-05, 0.0001, 0.001, 0.01,\n",
       "                    0.1, 1.0, 10.0, 100.0, 1000.0, 10000.0, 100000.0,\n",
       "                    1000000.0],\n",
       "              mask=[False, False, False, False, False, False, False, False,\n",
       "                    False, False, False, False, False, False, False, False,\n",
       "                    False, False, False, False, False, False, False, False,\n",
       "                    False, False, False, False, False, False, False, False,\n",
       "                    False, False, False, False, False, False, False, False,\n",
       "                    False, False, False, False, False, False, False, False,\n",
       "                    False, False, False, False, False, False, False, False,\n",
       "                    False, False, False, False, False, False, False, False,\n",
       "                    False],\n",
       "        fill_value='?',\n",
       "             dtype=object),\n",
       " 'params': [{'C': 0.01, 'gamma': 1e-06},\n",
       "  {'C': 0.01, 'gamma': 1e-05},\n",
       "  {'C': 0.01, 'gamma': 0.0001},\n",
       "  {'C': 0.01, 'gamma': 0.001},\n",
       "  {'C': 0.01, 'gamma': 0.01},\n",
       "  {'C': 0.01, 'gamma': 0.1},\n",
       "  {'C': 0.01, 'gamma': 1.0},\n",
       "  {'C': 0.01, 'gamma': 10.0},\n",
       "  {'C': 0.01, 'gamma': 100.0},\n",
       "  {'C': 0.01, 'gamma': 1000.0},\n",
       "  {'C': 0.01, 'gamma': 10000.0},\n",
       "  {'C': 0.01, 'gamma': 100000.0},\n",
       "  {'C': 0.01, 'gamma': 1000000.0},\n",
       "  {'C': 0.1, 'gamma': 1e-06},\n",
       "  {'C': 0.1, 'gamma': 1e-05},\n",
       "  {'C': 0.1, 'gamma': 0.0001},\n",
       "  {'C': 0.1, 'gamma': 0.001},\n",
       "  {'C': 0.1, 'gamma': 0.01},\n",
       "  {'C': 0.1, 'gamma': 0.1},\n",
       "  {'C': 0.1, 'gamma': 1.0},\n",
       "  {'C': 0.1, 'gamma': 10.0},\n",
       "  {'C': 0.1, 'gamma': 100.0},\n",
       "  {'C': 0.1, 'gamma': 1000.0},\n",
       "  {'C': 0.1, 'gamma': 10000.0},\n",
       "  {'C': 0.1, 'gamma': 100000.0},\n",
       "  {'C': 0.1, 'gamma': 1000000.0},\n",
       "  {'C': 1.0, 'gamma': 1e-06},\n",
       "  {'C': 1.0, 'gamma': 1e-05},\n",
       "  {'C': 1.0, 'gamma': 0.0001},\n",
       "  {'C': 1.0, 'gamma': 0.001},\n",
       "  {'C': 1.0, 'gamma': 0.01},\n",
       "  {'C': 1.0, 'gamma': 0.1},\n",
       "  {'C': 1.0, 'gamma': 1.0},\n",
       "  {'C': 1.0, 'gamma': 10.0},\n",
       "  {'C': 1.0, 'gamma': 100.0},\n",
       "  {'C': 1.0, 'gamma': 1000.0},\n",
       "  {'C': 1.0, 'gamma': 10000.0},\n",
       "  {'C': 1.0, 'gamma': 100000.0},\n",
       "  {'C': 1.0, 'gamma': 1000000.0},\n",
       "  {'C': 10.0, 'gamma': 1e-06},\n",
       "  {'C': 10.0, 'gamma': 1e-05},\n",
       "  {'C': 10.0, 'gamma': 0.0001},\n",
       "  {'C': 10.0, 'gamma': 0.001},\n",
       "  {'C': 10.0, 'gamma': 0.01},\n",
       "  {'C': 10.0, 'gamma': 0.1},\n",
       "  {'C': 10.0, 'gamma': 1.0},\n",
       "  {'C': 10.0, 'gamma': 10.0},\n",
       "  {'C': 10.0, 'gamma': 100.0},\n",
       "  {'C': 10.0, 'gamma': 1000.0},\n",
       "  {'C': 10.0, 'gamma': 10000.0},\n",
       "  {'C': 10.0, 'gamma': 100000.0},\n",
       "  {'C': 10.0, 'gamma': 1000000.0},\n",
       "  {'C': 100.0, 'gamma': 1e-06},\n",
       "  {'C': 100.0, 'gamma': 1e-05},\n",
       "  {'C': 100.0, 'gamma': 0.0001},\n",
       "  {'C': 100.0, 'gamma': 0.001},\n",
       "  {'C': 100.0, 'gamma': 0.01},\n",
       "  {'C': 100.0, 'gamma': 0.1},\n",
       "  {'C': 100.0, 'gamma': 1.0},\n",
       "  {'C': 100.0, 'gamma': 10.0},\n",
       "  {'C': 100.0, 'gamma': 100.0},\n",
       "  {'C': 100.0, 'gamma': 1000.0},\n",
       "  {'C': 100.0, 'gamma': 10000.0},\n",
       "  {'C': 100.0, 'gamma': 100000.0},\n",
       "  {'C': 100.0, 'gamma': 1000000.0}],\n",
       " 'rank_test_score': array([17, 17, 17, 17, 17, 17, 17, 17, 17, 17, 17, 17, 17, 17, 17, 17, 17,\n",
       "        17,  7, 17, 17, 17, 17, 17, 17, 17, 17, 17, 17, 14,  5,  5, 10, 17,\n",
       "        17, 17, 17, 17, 17, 17, 17, 14,  3,  1,  9, 12, 17, 17, 17, 17, 17,\n",
       "        17, 17, 14,  3,  2,  8, 11, 13, 17, 17, 17, 17, 17, 17]),\n",
       " 'split0_test_score': array([0.65322581, 0.65322581, 0.65322581, 0.65322581, 0.65322581,\n",
       "        0.65322581, 0.65322581, 0.65322581, 0.65322581, 0.65322581,\n",
       "        0.65322581, 0.65322581, 0.65322581, 0.65322581, 0.65322581,\n",
       "        0.65322581, 0.65322581, 0.65322581, 0.75      , 0.65322581,\n",
       "        0.65322581, 0.65322581, 0.65322581, 0.65322581, 0.65322581,\n",
       "        0.65322581, 0.65322581, 0.65322581, 0.65322581, 0.65322581,\n",
       "        0.76612903, 0.79032258, 0.72580645, 0.65322581, 0.65322581,\n",
       "        0.65322581, 0.65322581, 0.65322581, 0.65322581, 0.65322581,\n",
       "        0.65322581, 0.65322581, 0.76612903, 0.75806452, 0.75      ,\n",
       "        0.68548387, 0.65322581, 0.65322581, 0.65322581, 0.65322581,\n",
       "        0.65322581, 0.65322581, 0.65322581, 0.65322581, 0.76612903,\n",
       "        0.78225806, 0.75      , 0.75      , 0.67741935, 0.65322581,\n",
       "        0.65322581, 0.65322581, 0.65322581, 0.65322581, 0.65322581]),\n",
       " 'split0_train_score': array([0.65306122, 0.65306122, 0.65306122, 0.65306122, 0.65306122,\n",
       "        0.65306122, 0.65306122, 0.65306122, 0.65306122, 0.65306122,\n",
       "        0.65306122, 0.65306122, 0.65306122, 0.65306122, 0.65306122,\n",
       "        0.65306122, 0.65306122, 0.65306122, 0.78571429, 0.65306122,\n",
       "        0.65306122, 0.65306122, 0.65306122, 0.65306122, 0.65306122,\n",
       "        0.65306122, 0.65306122, 0.65306122, 0.65306122, 0.65918367,\n",
       "        0.7877551 , 0.81428571, 0.96326531, 1.        , 1.        ,\n",
       "        1.        , 1.        , 1.        , 1.        , 0.65306122,\n",
       "        0.65306122, 0.66122449, 0.77755102, 0.79795918, 0.86938776,\n",
       "        1.        , 1.        , 1.        , 1.        , 1.        ,\n",
       "        1.        , 1.        , 0.65306122, 0.66122449, 0.7755102 ,\n",
       "        0.77346939, 0.8122449 , 0.93877551, 1.        , 1.        ,\n",
       "        1.        , 1.        , 1.        , 1.        , 1.        ]),\n",
       " 'split1_test_score': array([0.6504065 , 0.6504065 , 0.6504065 , 0.6504065 , 0.6504065 ,\n",
       "        0.6504065 , 0.6504065 , 0.6504065 , 0.6504065 , 0.6504065 ,\n",
       "        0.6504065 , 0.6504065 , 0.6504065 , 0.6504065 , 0.6504065 ,\n",
       "        0.6504065 , 0.6504065 , 0.6504065 , 0.74796748, 0.6504065 ,\n",
       "        0.6504065 , 0.6504065 , 0.6504065 , 0.6504065 , 0.6504065 ,\n",
       "        0.6504065 , 0.6504065 , 0.6504065 , 0.6504065 , 0.65853659,\n",
       "        0.75609756, 0.76422764, 0.72357724, 0.6504065 , 0.6504065 ,\n",
       "        0.6504065 , 0.6504065 , 0.6504065 , 0.6504065 , 0.6504065 ,\n",
       "        0.6504065 , 0.65853659, 0.74796748, 0.75609756, 0.72357724,\n",
       "        0.73170732, 0.6504065 , 0.6504065 , 0.6504065 , 0.6504065 ,\n",
       "        0.6504065 , 0.6504065 , 0.6504065 , 0.65853659, 0.74796748,\n",
       "        0.74796748, 0.7398374 , 0.68292683, 0.74796748, 0.6504065 ,\n",
       "        0.6504065 , 0.6504065 , 0.6504065 , 0.6504065 , 0.6504065 ]),\n",
       " 'split1_train_score': array([0.65376782, 0.65376782, 0.65376782, 0.65376782, 0.65376782,\n",
       "        0.65376782, 0.65376782, 0.65376782, 0.65376782, 0.65376782,\n",
       "        0.65376782, 0.65376782, 0.65376782, 0.65376782, 0.65376782,\n",
       "        0.65376782, 0.65376782, 0.65376782, 0.79429735, 0.65376782,\n",
       "        0.65376782, 0.65376782, 0.65376782, 0.65376782, 0.65376782,\n",
       "        0.65376782, 0.65376782, 0.65376782, 0.65376782, 0.65376782,\n",
       "        0.79022403, 0.82484725, 0.95112016, 1.        , 1.        ,\n",
       "        1.        , 1.        , 1.        , 1.        , 0.65376782,\n",
       "        0.65376782, 0.65376782, 0.78615071, 0.80244399, 0.86354379,\n",
       "        0.99796334, 1.        , 1.        , 1.        , 1.        ,\n",
       "        1.        , 1.        , 0.65376782, 0.65376782, 0.78615071,\n",
       "        0.79429735, 0.82077393, 0.9185336 , 1.        , 1.        ,\n",
       "        1.        , 1.        , 1.        , 1.        , 1.        ]),\n",
       " 'split2_test_score': array([0.6504065 , 0.6504065 , 0.6504065 , 0.6504065 , 0.6504065 ,\n",
       "        0.6504065 , 0.6504065 , 0.6504065 , 0.6504065 , 0.6504065 ,\n",
       "        0.6504065 , 0.6504065 , 0.6504065 , 0.6504065 , 0.6504065 ,\n",
       "        0.6504065 , 0.6504065 , 0.6504065 , 0.7398374 , 0.6504065 ,\n",
       "        0.6504065 , 0.6504065 , 0.6504065 , 0.6504065 , 0.6504065 ,\n",
       "        0.6504065 , 0.6504065 , 0.6504065 , 0.6504065 , 0.6504065 ,\n",
       "        0.72357724, 0.74796748, 0.69105691, 0.6504065 , 0.6504065 ,\n",
       "        0.6504065 , 0.6504065 , 0.6504065 , 0.6504065 , 0.6504065 ,\n",
       "        0.6504065 , 0.6504065 , 0.7398374 , 0.74796748, 0.73170732,\n",
       "        0.70731707, 0.6504065 , 0.6504065 , 0.6504065 , 0.6504065 ,\n",
       "        0.6504065 , 0.6504065 , 0.6504065 , 0.6504065 , 0.7398374 ,\n",
       "        0.73170732, 0.73170732, 0.66666667, 0.70731707, 0.6504065 ,\n",
       "        0.6504065 , 0.6504065 , 0.6504065 , 0.6504065 , 0.6504065 ]),\n",
       " 'split2_train_score': array([0.65376782, 0.65376782, 0.65376782, 0.65376782, 0.65376782,\n",
       "        0.65376782, 0.65376782, 0.65376782, 0.65376782, 0.65376782,\n",
       "        0.65376782, 0.65376782, 0.65376782, 0.65376782, 0.65376782,\n",
       "        0.65376782, 0.65376782, 0.65376782, 0.78818737, 0.65376782,\n",
       "        0.65376782, 0.65376782, 0.65376782, 0.65376782, 0.65376782,\n",
       "        0.65376782, 0.65376782, 0.65376782, 0.65376782, 0.65784114,\n",
       "        0.78615071, 0.83299389, 0.95112016, 1.        , 1.        ,\n",
       "        1.        , 1.        , 1.        , 1.        , 0.65376782,\n",
       "        0.65376782, 0.6598778 , 0.78207739, 0.79429735, 0.85743381,\n",
       "        1.        , 1.        , 1.        , 1.        , 1.        ,\n",
       "        1.        , 1.        , 0.65376782, 0.6598778 , 0.78004073,\n",
       "        0.78411405, 0.82077393, 0.9185336 , 1.        , 1.        ,\n",
       "        1.        , 1.        , 1.        , 1.        , 1.        ]),\n",
       " 'split3_test_score': array([0.6557377 , 0.6557377 , 0.6557377 , 0.6557377 , 0.6557377 ,\n",
       "        0.6557377 , 0.6557377 , 0.6557377 , 0.6557377 , 0.6557377 ,\n",
       "        0.6557377 , 0.6557377 , 0.6557377 , 0.6557377 , 0.6557377 ,\n",
       "        0.6557377 , 0.6557377 , 0.6557377 , 0.77868852, 0.6557377 ,\n",
       "        0.6557377 , 0.6557377 , 0.6557377 , 0.6557377 , 0.6557377 ,\n",
       "        0.6557377 , 0.6557377 , 0.6557377 , 0.6557377 , 0.6557377 ,\n",
       "        0.79508197, 0.79508197, 0.74590164, 0.6557377 , 0.6557377 ,\n",
       "        0.6557377 , 0.6557377 , 0.6557377 , 0.6557377 , 0.6557377 ,\n",
       "        0.6557377 , 0.6557377 , 0.80327869, 0.80327869, 0.80327869,\n",
       "        0.68032787, 0.6557377 , 0.6557377 , 0.6557377 , 0.6557377 ,\n",
       "        0.6557377 , 0.6557377 , 0.6557377 , 0.6557377 , 0.80327869,\n",
       "        0.80327869, 0.79508197, 0.7704918 , 0.67213115, 0.6557377 ,\n",
       "        0.6557377 , 0.6557377 , 0.6557377 , 0.6557377 , 0.6557377 ]),\n",
       " 'split3_train_score': array([0.65243902, 0.65243902, 0.65243902, 0.65243902, 0.65243902,\n",
       "        0.65243902, 0.65243902, 0.65243902, 0.65243902, 0.65243902,\n",
       "        0.65243902, 0.65243902, 0.65243902, 0.65243902, 0.65243902,\n",
       "        0.65243902, 0.65243902, 0.65243902, 0.78455285, 0.65243902,\n",
       "        0.65243902, 0.65243902, 0.65243902, 0.65243902, 0.65243902,\n",
       "        0.65243902, 0.65243902, 0.65243902, 0.65243902, 0.65243902,\n",
       "        0.7804878 , 0.81910569, 0.94512195, 1.        , 1.        ,\n",
       "        1.        , 1.        , 1.        , 1.        , 0.65243902,\n",
       "        0.65243902, 0.65243902, 0.7703252 , 0.77845528, 0.86178862,\n",
       "        0.99796748, 1.        , 1.        , 1.        , 1.        ,\n",
       "        1.        , 1.        , 0.65243902, 0.65243902, 0.76829268,\n",
       "        0.7703252 , 0.81097561, 0.92073171, 1.        , 1.        ,\n",
       "        1.        , 1.        , 1.        , 1.        , 1.        ]),\n",
       " 'split4_test_score': array([0.6557377 , 0.6557377 , 0.6557377 , 0.6557377 , 0.6557377 ,\n",
       "        0.6557377 , 0.6557377 , 0.6557377 , 0.6557377 , 0.6557377 ,\n",
       "        0.6557377 , 0.6557377 , 0.6557377 , 0.6557377 , 0.6557377 ,\n",
       "        0.6557377 , 0.6557377 , 0.6557377 , 0.79508197, 0.6557377 ,\n",
       "        0.6557377 , 0.6557377 , 0.6557377 , 0.6557377 , 0.6557377 ,\n",
       "        0.6557377 , 0.6557377 , 0.6557377 , 0.6557377 , 0.66393443,\n",
       "        0.81147541, 0.75409836, 0.7295082 , 0.6557377 , 0.6557377 ,\n",
       "        0.6557377 , 0.6557377 , 0.6557377 , 0.6557377 , 0.6557377 ,\n",
       "        0.6557377 , 0.66393443, 0.80327869, 0.81967213, 0.74590164,\n",
       "        0.73770492, 0.6557377 , 0.6557377 , 0.6557377 , 0.6557377 ,\n",
       "        0.6557377 , 0.6557377 , 0.6557377 , 0.66393443, 0.80327869,\n",
       "        0.81147541, 0.76229508, 0.69672131, 0.7295082 , 0.6557377 ,\n",
       "        0.6557377 , 0.6557377 , 0.6557377 , 0.6557377 , 0.6557377 ]),\n",
       " 'split4_train_score': array([0.65243902, 0.65243902, 0.65243902, 0.65243902, 0.65243902,\n",
       "        0.65243902, 0.65243902, 0.65243902, 0.65243902, 0.65243902,\n",
       "        0.65243902, 0.65243902, 0.65243902, 0.65243902, 0.65243902,\n",
       "        0.65243902, 0.65243902, 0.65243902, 0.78861789, 0.65243902,\n",
       "        0.65243902, 0.65243902, 0.65243902, 0.65243902, 0.65243902,\n",
       "        0.65243902, 0.65243902, 0.65243902, 0.65243902, 0.65447154,\n",
       "        0.77235772, 0.82723577, 0.95121951, 1.        , 1.        ,\n",
       "        1.        , 1.        , 1.        , 1.        , 0.65243902,\n",
       "        0.65243902, 0.65447154, 0.76829268, 0.79065041, 0.87804878,\n",
       "        1.        , 1.        , 1.        , 1.        , 1.        ,\n",
       "        1.        , 1.        , 0.65243902, 0.65447154, 0.76626016,\n",
       "        0.77439024, 0.82926829, 0.92073171, 1.        , 1.        ,\n",
       "        1.        , 1.        , 1.        , 1.        , 1.        ]),\n",
       " 'std_fit_time': array([1.72167646e-03, 1.16685014e-03, 4.00281844e-04, 4.90505268e-04,\n",
       "        3.99591217e-04, 1.44159474e-06, 1.49729905e-06, 4.00806619e-04,\n",
       "        4.90002643e-04, 1.16559944e-03, 4.00902780e-04, 4.91382910e-04,\n",
       "        4.90680556e-04, 1.61703348e-06, 4.90076729e-04, 1.36545382e-06,\n",
       "        4.89863671e-04, 6.33163685e-04, 4.90232556e-04, 4.01759498e-04,\n",
       "        7.48420424e-04, 4.90310237e-04, 4.91305329e-04, 4.91460762e-04,\n",
       "        4.90506450e-04, 3.99591189e-04, 4.90352092e-04, 4.00166374e-04,\n",
       "        1.54806929e-06, 3.98422696e-04, 3.50402318e-07, 4.00071633e-04,\n",
       "        4.89844961e-04, 4.89143206e-04, 7.48443509e-04, 1.32827990e-03,\n",
       "        4.90115685e-04, 1.32836548e-03, 7.99525173e-04, 4.00973174e-04,\n",
       "        8.71451706e-07, 4.91966611e-04, 3.99807197e-04, 4.00215946e-04,\n",
       "        3.99856956e-04, 4.90022591e-04, 1.16720219e-03, 1.20023358e-03,\n",
       "        8.94683975e-04, 8.01397453e-04, 1.02031013e-03, 8.01683201e-04,\n",
       "        4.02285064e-04, 3.99687324e-04, 1.16800773e-07, 7.13664510e-07,\n",
       "        4.90622764e-04, 3.19010183e-03, 6.33014494e-04, 1.09684645e-03,\n",
       "        1.01932979e-03, 8.02840337e-04, 4.90953423e-04, 1.01977017e-03,\n",
       "        1.09632400e-03]),\n",
       " 'std_score_time': array([4.90232393e-04, 4.90485502e-04, 3.69356475e-07, 4.02332917e-04,\n",
       "        4.10190833e-07, 2.13248060e-07, 1.76236330e-06, 4.00281247e-04,\n",
       "        3.99948968e-04, 4.90602303e-04, 4.00352506e-04, 4.90329969e-04,\n",
       "        4.00067001e-04, 3.16297988e-07, 4.86280395e-07, 4.00328988e-04,\n",
       "        4.91090962e-04, 3.16297988e-07, 3.99065146e-04, 4.00328732e-04,\n",
       "        1.20253756e-06, 1.45728176e-06, 4.90720100e-04, 4.90816698e-04,\n",
       "        4.90641237e-04, 4.89923052e-04, 4.00805569e-04, 1.70198138e-06,\n",
       "        1.16800773e-07, 2.33601546e-07, 4.90037718e-04, 4.00639630e-04,\n",
       "        4.90680348e-04, 4.26496120e-07, 8.44957597e-07, 4.90800252e-04,\n",
       "        4.90797287e-04, 4.90758501e-04, 4.00853395e-04, 1.43527193e-06,\n",
       "        2.13248060e-07, 4.01353850e-04, 4.00042630e-04, 4.00471868e-04,\n",
       "        1.37375453e-06, 4.90408678e-04, 1.34024327e-06, 3.98591275e-04,\n",
       "        3.99470966e-04, 4.00283633e-04, 4.00352734e-04, 4.01070724e-04,\n",
       "        6.14361702e-07, 4.00117085e-04, 4.00209441e-04, 4.00543468e-04,\n",
       "        4.90524366e-04, 4.90232602e-04, 4.90466018e-04, 4.00209839e-04,\n",
       "        4.00377126e-04, 4.90875394e-04, 4.90096321e-04, 4.91363526e-04,\n",
       "        4.90407565e-04]),\n",
       " 'std_test_score': array([0.00238217, 0.00238217, 0.00238217, 0.00238217, 0.00238217,\n",
       "        0.00238217, 0.00238217, 0.00238217, 0.00238217, 0.00238217,\n",
       "        0.00238217, 0.00238217, 0.00238217, 0.00238217, 0.00238217,\n",
       "        0.00238217, 0.00238217, 0.00238217, 0.0209684 , 0.00238217,\n",
       "        0.00238217, 0.00238217, 0.00238217, 0.00238217, 0.00238217,\n",
       "        0.00238217, 0.00238217, 0.00238217, 0.00238217, 0.00463786,\n",
       "        0.03066162, 0.01903796, 0.01785149, 0.00238217, 0.00238217,\n",
       "        0.00238217, 0.00238217, 0.00238217, 0.00238217, 0.00238217,\n",
       "        0.00238217, 0.00463786, 0.02680817, 0.02877144, 0.02781354,\n",
       "        0.02328794, 0.00238217, 0.00238217, 0.00238217, 0.00238217,\n",
       "        0.00238217, 0.00238217, 0.00238217, 0.00463786, 0.02680817,\n",
       "        0.03091412, 0.02211548, 0.03996232, 0.02924326, 0.00238217,\n",
       "        0.00238217, 0.00238217, 0.00238217, 0.00238217, 0.00238217]),\n",
       " 'std_train_score': array([0.0005945 , 0.0005945 , 0.0005945 , 0.0005945 , 0.0005945 ,\n",
       "        0.0005945 , 0.0005945 , 0.0005945 , 0.0005945 , 0.0005945 ,\n",
       "        0.0005945 , 0.0005945 , 0.0005945 , 0.0005945 , 0.0005945 ,\n",
       "        0.0005945 , 0.0005945 , 0.0005945 , 0.00337063, 0.0005945 ,\n",
       "        0.0005945 , 0.0005945 , 0.0005945 , 0.0005945 , 0.0005945 ,\n",
       "        0.0005945 , 0.0005945 , 0.0005945 , 0.0005945 , 0.00254833,\n",
       "        0.00637986, 0.00647967, 0.00592773, 0.        , 0.        ,\n",
       "        0.        , 0.        , 0.        , 0.        , 0.0005945 ,\n",
       "        0.0005945 , 0.00351277, 0.00678405, 0.00815169, 0.00712447,\n",
       "        0.00099674, 0.        , 0.        , 0.        , 0.        ,\n",
       "        0.        , 0.        , 0.0005945 , 0.00351277, 0.00736296,\n",
       "        0.0087948 , 0.00665685, 0.00771998, 0.        , 0.        ,\n",
       "        0.        , 0.        , 0.        , 0.        , 0.        ])}"
      ]
     },
     "execution_count": 504,
     "metadata": {},
     "output_type": "execute_result"
    }
   ],
   "source": [
    "# view the complete results (list of named tuples)\n",
    "grid.cv_results_"
   ]
  },
  {
   "cell_type": "code",
   "execution_count": 505,
   "metadata": {},
   "outputs": [
    {
     "name": "stdout",
     "output_type": "stream",
     "text": [
      "0.7768729641693811\n",
      "{'C': 10.0, 'gamma': 0.01}\n"
     ]
    }
   ],
   "source": [
    "# examine the best model\n",
    "print(grid.best_score_)\n",
    "print(grid.best_params_)"
   ]
  },
  {
   "cell_type": "code",
   "execution_count": null,
   "metadata": {},
   "outputs": [],
   "source": []
  },
  {
   "cell_type": "code",
   "execution_count": null,
   "metadata": {},
   "outputs": [],
   "source": []
  },
  {
   "cell_type": "code",
   "execution_count": null,
   "metadata": {},
   "outputs": [],
   "source": []
  },
  {
   "cell_type": "code",
   "execution_count": null,
   "metadata": {},
   "outputs": [],
   "source": []
  },
  {
   "cell_type": "code",
   "execution_count": null,
   "metadata": {},
   "outputs": [],
   "source": []
  },
  {
   "cell_type": "code",
   "execution_count": null,
   "metadata": {},
   "outputs": [],
   "source": []
  },
  {
   "cell_type": "code",
   "execution_count": null,
   "metadata": {},
   "outputs": [],
   "source": []
  },
  {
   "cell_type": "code",
   "execution_count": null,
   "metadata": {},
   "outputs": [],
   "source": []
  },
  {
   "cell_type": "code",
   "execution_count": null,
   "metadata": {},
   "outputs": [],
   "source": []
  }
 ],
 "metadata": {
  "kernelspec": {
   "display_name": "Python 3",
   "language": "python",
   "name": "python3"
  },
  "language_info": {
   "codemirror_mode": {
    "name": "ipython",
    "version": 3
   },
   "file_extension": ".py",
   "mimetype": "text/x-python",
   "name": "python",
   "nbconvert_exporter": "python",
   "pygments_lexer": "ipython3",
   "version": "3.6.4"
  }
 },
 "nbformat": 4,
 "nbformat_minor": 2
}
